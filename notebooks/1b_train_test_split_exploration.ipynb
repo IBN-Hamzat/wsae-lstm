{
 "cells": [
  {
   "cell_type": "code",
   "execution_count": 123,
   "metadata": {},
   "outputs": [],
   "source": [
    "# Imports (External)\n",
    "import numpy as np\n",
    "import pandas as pd\n",
    "import datetime\n",
    "from datetime import datetime\n",
    "\n",
    "from monthdelta import monthdelta\n",
    "import xlrd\n",
    "import xlsxwriter\n",
    "from collections import OrderedDict\n",
    "\n",
    "import sys\n",
    "sys.path.append('../')  \n",
    "\n",
    "# Visualization/plotting imports\n",
    "import matplotlib as mpl\n",
    "import matplotlib.pyplot as plt\n",
    "\n",
    "# Machine learning imports\n",
    "# import sklearn\n",
    "# import tensorflow as tf\n",
    "# import keras\n",
    "import pywt\n",
    "from pywt import wavedec, waverec\n",
    "from scipy import signal\n",
    "from statsmodels.robust import mad\n",
    "\n",
    "# Internal Imports\n",
    "from wsae_lstm.utils import dictmap_load"
   ]
  },
  {
   "cell_type": "code",
   "execution_count": 124,
   "metadata": {},
   "outputs": [],
   "source": [
    "dict_dataframes_index = dictmap_load(path = \"../data/processed/clean_data_index.xlsx\")   \n",
    "dict_dataframes_future = dictmap_load(path = \"../data/processed/clean_data_future.xlsx\")   "
   ]
  },
  {
   "cell_type": "code",
   "execution_count": 125,
   "metadata": {},
   "outputs": [
    {
     "data": {
      "text/plain": [
       "odict_keys(['csi300 index data', 'nifty 50 index data', 'hangseng index data', 'nikkei 225 index data', 's&p500 index data', 'djia index data'])"
      ]
     },
     "execution_count": 125,
     "metadata": {},
     "output_type": "execute_result"
    }
   ],
   "source": [
    "dict_dataframes_index.keys()"
   ]
  },
  {
   "cell_type": "code",
   "execution_count": 126,
   "metadata": {
    "scrolled": true
   },
   "outputs": [
    {
     "data": {
      "text/html": [
       "<div>\n",
       "<style scoped>\n",
       "    .dataframe tbody tr th:only-of-type {\n",
       "        vertical-align: middle;\n",
       "    }\n",
       "\n",
       "    .dataframe tbody tr th {\n",
       "        vertical-align: top;\n",
       "    }\n",
       "\n",
       "    .dataframe thead th {\n",
       "        text-align: right;\n",
       "    }\n",
       "</style>\n",
       "<table border=\"1\" class=\"dataframe\">\n",
       "  <thead>\n",
       "    <tr style=\"text-align: right;\">\n",
       "      <th></th>\n",
       "      <th>date</th>\n",
       "      <th>open</th>\n",
       "      <th>high</th>\n",
       "      <th>low</th>\n",
       "      <th>close</th>\n",
       "      <th>volume</th>\n",
       "      <th>us dollar index</th>\n",
       "      <th>shibor</th>\n",
       "      <th>macd</th>\n",
       "      <th>cci</th>\n",
       "      <th>atr</th>\n",
       "      <th>boll</th>\n",
       "      <th>ema20</th>\n",
       "      <th>ma10</th>\n",
       "      <th>mtm6</th>\n",
       "      <th>ma5</th>\n",
       "      <th>mtm12</th>\n",
       "      <th>roc</th>\n",
       "      <th>smi</th>\n",
       "      <th>wvad</th>\n",
       "    </tr>\n",
       "  </thead>\n",
       "  <tbody>\n",
       "    <tr>\n",
       "      <th>0</th>\n",
       "      <td>2008-07-01</td>\n",
       "      <td>2799.20</td>\n",
       "      <td>2809.38</td>\n",
       "      <td>2690.18</td>\n",
       "      <td>2698.35</td>\n",
       "      <td>288515.85</td>\n",
       "      <td>72.34</td>\n",
       "      <td>2.5006</td>\n",
       "      <td>-213.078565</td>\n",
       "      <td>-128.949052</td>\n",
       "      <td>119.200</td>\n",
       "      <td>3173.475692</td>\n",
       "      <td>3033.748201</td>\n",
       "      <td>2851.2504</td>\n",
       "      <td>-91.594</td>\n",
       "      <td>2851.3262</td>\n",
       "      <td>-280.770</td>\n",
       "      <td>-9.424605</td>\n",
       "      <td>-0.097927</td>\n",
       "      <td>-8.726278e+07</td>\n",
       "    </tr>\n",
       "    <tr>\n",
       "      <th>1</th>\n",
       "      <td>2008-07-02</td>\n",
       "      <td>2702.63</td>\n",
       "      <td>2745.94</td>\n",
       "      <td>2670.06</td>\n",
       "      <td>2699.60</td>\n",
       "      <td>279163.65</td>\n",
       "      <td>71.99</td>\n",
       "      <td>2.7238</td>\n",
       "      <td>-213.732249</td>\n",
       "      <td>-139.719688</td>\n",
       "      <td>75.875</td>\n",
       "      <td>3140.413385</td>\n",
       "      <td>3001.924277</td>\n",
       "      <td>2822.0828</td>\n",
       "      <td>-152.318</td>\n",
       "      <td>2797.3382</td>\n",
       "      <td>-252.645</td>\n",
       "      <td>-8.557733</td>\n",
       "      <td>-0.026497</td>\n",
       "      <td>-1.095493e+08</td>\n",
       "    </tr>\n",
       "  </tbody>\n",
       "</table>\n",
       "</div>"
      ],
      "text/plain": [
       "        date     open     high      low    close     volume  us dollar index  \\\n",
       "0 2008-07-01  2799.20  2809.38  2690.18  2698.35  288515.85            72.34   \n",
       "1 2008-07-02  2702.63  2745.94  2670.06  2699.60  279163.65            71.99   \n",
       "\n",
       "   shibor        macd         cci      atr         boll        ema20  \\\n",
       "0  2.5006 -213.078565 -128.949052  119.200  3173.475692  3033.748201   \n",
       "1  2.7238 -213.732249 -139.719688   75.875  3140.413385  3001.924277   \n",
       "\n",
       "        ma10     mtm6        ma5    mtm12       roc       smi          wvad  \n",
       "0  2851.2504  -91.594  2851.3262 -280.770 -9.424605 -0.097927 -8.726278e+07  \n",
       "1  2822.0828 -152.318  2797.3382 -252.645 -8.557733 -0.026497 -1.095493e+08  "
      ]
     },
     "execution_count": 126,
     "metadata": {},
     "output_type": "execute_result"
    }
   ],
   "source": [
    "dict_dataframes_index['csi300 index data'].head(2)"
   ]
  },
  {
   "cell_type": "code",
   "execution_count": 127,
   "metadata": {},
   "outputs": [],
   "source": [
    "df = dict_dataframes_index['csi300 index data']\n",
    "df = df.set_index(df['date'])"
   ]
  },
  {
   "cell_type": "code",
   "execution_count": 128,
   "metadata": {},
   "outputs": [],
   "source": [
    "# df_tvt1 = df[(df['date'] >= '2008-7-01') & (df['date'] <= '2011-01-01')]\n",
    "# df_tvt2 = df[(df['date'] >= '2008-10-01') & (df['date'] <= '2011-04-01')]\n",
    "# df_tvt3 = df[(df['date'] >= '2009-01-01') & (df['date'] <= '2011-07-01')]"
   ]
  },
  {
   "cell_type": "code",
   "execution_count": 152,
   "metadata": {},
   "outputs": [
    {
     "data": {
      "text/plain": [
       "Timestamp('2008-07-01 00:00:00')"
      ]
     },
     "execution_count": 152,
     "metadata": {},
     "output_type": "execute_result"
    }
   ],
   "source": [
    "df['date'][0] "
   ]
  },
  {
   "cell_type": "code",
   "execution_count": 158,
   "metadata": {},
   "outputs": [
    {
     "data": {
      "text/plain": [
       "Timestamp('2011-01-01 00:00:00')"
      ]
     },
     "execution_count": 158,
     "metadata": {},
     "output_type": "execute_result"
    }
   ],
   "source": [
    "df['date'][0]+monthdelta(30) "
   ]
  },
  {
   "cell_type": "code",
   "execution_count": 160,
   "metadata": {},
   "outputs": [
    {
     "name": "stdout",
     "output_type": "stream",
     "text": [
      "2008-07-01 00:00:00 2011-01-01 00:00:00\n",
      "2008-10-01 00:00:00 2011-04-01 00:00:00\n",
      "2009-01-01 00:00:00 2011-07-01 00:00:00\n",
      "2009-04-01 00:00:00 2011-10-01 00:00:00\n",
      "2009-07-01 00:00:00 2012-01-01 00:00:00\n",
      "2009-10-01 00:00:00 2012-04-01 00:00:00\n",
      "2010-01-01 00:00:00 2012-07-01 00:00:00\n",
      "2010-04-01 00:00:00 2012-10-01 00:00:00\n",
      "2010-07-01 00:00:00 2013-01-01 00:00:00\n",
      "2010-10-01 00:00:00 2013-04-01 00:00:00\n",
      "2011-01-01 00:00:00 2013-07-01 00:00:00\n",
      "2011-04-01 00:00:00 2013-10-01 00:00:00\n",
      "2011-07-01 00:00:00 2014-01-01 00:00:00\n",
      "2011-10-01 00:00:00 2014-04-01 00:00:00\n",
      "2012-01-01 00:00:00 2014-07-01 00:00:00\n",
      "2012-04-01 00:00:00 2014-10-01 00:00:00\n",
      "2012-07-01 00:00:00 2015-01-01 00:00:00\n",
      "2012-10-01 00:00:00 2015-04-01 00:00:00\n",
      "2013-01-01 00:00:00 2015-07-01 00:00:00\n",
      "2013-04-01 00:00:00 2015-10-01 00:00:00\n",
      "2013-07-01 00:00:00 2016-01-01 00:00:00\n",
      "2013-10-01 00:00:00 2016-04-01 00:00:00\n",
      "2014-01-01 00:00:00 2016-07-01 00:00:00\n",
      "2014-04-01 00:00:00 2016-10-01 00:00:00\n"
     ]
    }
   ],
   "source": [
    "split_count = 24\n",
    "month_increment = 0\n",
    "while split_count > 0:\n",
    "    front = df['date'][0] \n",
    "    front = front + monthdelta(month_increment)\n",
    "    back = df['date'][0]+monthdelta(30) \n",
    "    back = back + monthdelta(month_increment)\n",
    "    month_increment += 3\n",
    "    split_count -= 1\n",
    "    print(front,back)"
   ]
  },
  {
   "cell_type": "code",
   "execution_count": 129,
   "metadata": {},
   "outputs": [
    {
     "data": {
      "text/plain": [
       "Timestamp('2008-10-01 00:00:00')"
      ]
     },
     "execution_count": 129,
     "metadata": {},
     "output_type": "execute_result"
    }
   ],
   "source": [
    "df['date'][0]+monthdelta(3)"
   ]
  },
  {
   "cell_type": "code",
   "execution_count": 102,
   "metadata": {},
   "outputs": [
    {
     "data": {
      "text/plain": [
       "2010"
      ]
     },
     "execution_count": 102,
     "metadata": {},
     "output_type": "execute_result"
    }
   ],
   "source": [
    "len(df)"
   ]
  },
  {
   "cell_type": "code",
   "execution_count": null,
   "metadata": {},
   "outputs": [],
   "source": []
  },
  {
   "cell_type": "code",
   "execution_count": 91,
   "metadata": {
    "scrolled": true
   },
   "outputs": [],
   "source": [
    "# dict_dataframes_index['csi300 index data'].drop(['date'],axis=1,inplace=True)\n",
    "# dict_dataframes_index['csi300 index data'].values"
   ]
  },
  {
   "cell_type": "code",
   "execution_count": 75,
   "metadata": {},
   "outputs": [],
   "source": [
    "# validating\n",
    "#df_train['date'][0]+monthdelta(3)"
   ]
  },
  {
   "cell_type": "code",
   "execution_count": 76,
   "metadata": {},
   "outputs": [],
   "source": [
    "# testing\n",
    "#df_train['date'][-1]+monthdelta(6)"
   ]
  },
  {
   "cell_type": "code",
   "execution_count": null,
   "metadata": {},
   "outputs": [],
   "source": []
  },
  {
   "cell_type": "code",
   "execution_count": null,
   "metadata": {},
   "outputs": [],
   "source": []
  },
  {
   "cell_type": "code",
   "execution_count": 77,
   "metadata": {},
   "outputs": [],
   "source": [
    "# dict_dataframes_index['csi300 index data'].drop(['date'],axis=1,inplace=True)\n",
    "# dict_dataframes_index['csi300 index data'].values"
   ]
  },
  {
   "cell_type": "code",
   "execution_count": 78,
   "metadata": {},
   "outputs": [],
   "source": [
    "# from sklearn.model_selection import TimeSeriesSplit\n",
    "# X = dict_dataframes_index['csi300 index data'].values\n",
    "# tscv = TimeSeriesSplit(n_splits=6)\n",
    "# for train_index, test_index in tscv.split(X):\n",
    "#     train = X[train_index]\n",
    "#     test = X[test_index]\n",
    "#     print('Observations: %d' % (len(train) + len(test)))\n",
    "#     print('Training Observations: %d' % (len(train)))\n",
    "#     print('Testing Observations: %d' % (len(test)))"
   ]
  },
  {
   "cell_type": "code",
   "execution_count": null,
   "metadata": {},
   "outputs": [],
   "source": []
  },
  {
   "cell_type": "code",
   "execution_count": null,
   "metadata": {},
   "outputs": [],
   "source": []
  },
  {
   "cell_type": "code",
   "execution_count": null,
   "metadata": {
    "scrolled": true
   },
   "outputs": [],
   "source": []
  },
  {
   "cell_type": "code",
   "execution_count": null,
   "metadata": {},
   "outputs": [],
   "source": []
  }
 ],
 "metadata": {
  "kernelspec": {
   "display_name": "Python 3",
   "language": "python",
   "name": "python3"
  },
  "language_info": {
   "codemirror_mode": {
    "name": "ipython",
    "version": 3
   },
   "file_extension": ".py",
   "mimetype": "text/x-python",
   "name": "python",
   "nbconvert_exporter": "python",
   "pygments_lexer": "ipython3",
   "version": "3.6.6"
  }
 },
 "nbformat": 4,
 "nbformat_minor": 2
}
