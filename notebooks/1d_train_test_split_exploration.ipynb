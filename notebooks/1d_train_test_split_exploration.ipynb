{
 "cells": [
  {
   "cell_type": "code",
   "execution_count": 1,
   "metadata": {},
   "outputs": [],
   "source": [
    "# Imports (External)\n",
    "import numpy as np\n",
    "import pandas as pd\n",
    "import datetime\n",
    "from datetime import datetime\n",
    "\n",
    "from monthdelta import monthdelta\n",
    "import xlrd\n",
    "import xlsxwriter\n",
    "from collections import OrderedDict\n",
    "import pickle\n",
    "\n",
    "import sys\n",
    "sys.path.append('../')  \n",
    "\n",
    "# Visualization/plotting imports\n",
    "import matplotlib as mpl\n",
    "import matplotlib.pyplot as plt\n",
    "\n",
    "# Machine learning imports\n",
    "# import sklearn\n",
    "# import tensorflow as tf\n",
    "# import keras\n",
    "import pywt\n",
    "from pywt import wavedec, waverec\n",
    "from scipy import signal\n",
    "from statsmodels.robust import mad\n",
    "\n",
    "# Internal Imports\n",
    "from wsae_lstm.utils import dictmap_load"
   ]
  },
  {
   "cell_type": "code",
   "execution_count": 2,
   "metadata": {},
   "outputs": [],
   "source": [
    "dict_dataframes_index = dictmap_load(path = \"../data/processed/clean_data_index.xlsx\")   \n",
    "dict_dataframes_future = dictmap_load(path = \"../data/processed/clean_data_future.xlsx\")   "
   ]
  },
  {
   "cell_type": "code",
   "execution_count": 3,
   "metadata": {},
   "outputs": [
    {
     "data": {
      "text/plain": [
       "odict_keys(['csi300 index data', 'nifty 50 index data', 'hangseng index data', 'nikkei 225 index data', 's&p500 index data', 'djia index data'])"
      ]
     },
     "execution_count": 3,
     "metadata": {},
     "output_type": "execute_result"
    }
   ],
   "source": [
    "dict_dataframes_index.keys()"
   ]
  },
  {
   "cell_type": "code",
   "execution_count": 4,
   "metadata": {
    "scrolled": true
   },
   "outputs": [
    {
     "data": {
      "text/html": [
       "<div>\n",
       "<style scoped>\n",
       "    .dataframe tbody tr th:only-of-type {\n",
       "        vertical-align: middle;\n",
       "    }\n",
       "\n",
       "    .dataframe tbody tr th {\n",
       "        vertical-align: top;\n",
       "    }\n",
       "\n",
       "    .dataframe thead th {\n",
       "        text-align: right;\n",
       "    }\n",
       "</style>\n",
       "<table border=\"1\" class=\"dataframe\">\n",
       "  <thead>\n",
       "    <tr style=\"text-align: right;\">\n",
       "      <th></th>\n",
       "      <th>date</th>\n",
       "      <th>open</th>\n",
       "      <th>high</th>\n",
       "      <th>low</th>\n",
       "      <th>close</th>\n",
       "      <th>volume</th>\n",
       "      <th>us dollar index</th>\n",
       "      <th>shibor</th>\n",
       "      <th>macd</th>\n",
       "      <th>cci</th>\n",
       "      <th>atr</th>\n",
       "      <th>boll</th>\n",
       "      <th>ema20</th>\n",
       "      <th>ma10</th>\n",
       "      <th>mtm6</th>\n",
       "      <th>ma5</th>\n",
       "      <th>mtm12</th>\n",
       "      <th>roc</th>\n",
       "      <th>smi</th>\n",
       "      <th>wvad</th>\n",
       "    </tr>\n",
       "  </thead>\n",
       "  <tbody>\n",
       "    <tr>\n",
       "      <th>0</th>\n",
       "      <td>2008-07-01</td>\n",
       "      <td>2799.20</td>\n",
       "      <td>2809.38</td>\n",
       "      <td>2690.18</td>\n",
       "      <td>2698.35</td>\n",
       "      <td>288515.85</td>\n",
       "      <td>72.34</td>\n",
       "      <td>2.5006</td>\n",
       "      <td>-213.078565</td>\n",
       "      <td>-128.949052</td>\n",
       "      <td>119.200</td>\n",
       "      <td>3173.475692</td>\n",
       "      <td>3033.748201</td>\n",
       "      <td>2851.2504</td>\n",
       "      <td>-91.594</td>\n",
       "      <td>2851.3262</td>\n",
       "      <td>-280.770</td>\n",
       "      <td>-9.424605</td>\n",
       "      <td>-0.097927</td>\n",
       "      <td>-8.726278e+07</td>\n",
       "    </tr>\n",
       "    <tr>\n",
       "      <th>1</th>\n",
       "      <td>2008-07-02</td>\n",
       "      <td>2702.63</td>\n",
       "      <td>2745.94</td>\n",
       "      <td>2670.06</td>\n",
       "      <td>2699.60</td>\n",
       "      <td>279163.65</td>\n",
       "      <td>71.99</td>\n",
       "      <td>2.7238</td>\n",
       "      <td>-213.732249</td>\n",
       "      <td>-139.719688</td>\n",
       "      <td>75.875</td>\n",
       "      <td>3140.413385</td>\n",
       "      <td>3001.924277</td>\n",
       "      <td>2822.0828</td>\n",
       "      <td>-152.318</td>\n",
       "      <td>2797.3382</td>\n",
       "      <td>-252.645</td>\n",
       "      <td>-8.557733</td>\n",
       "      <td>-0.026497</td>\n",
       "      <td>-1.095493e+08</td>\n",
       "    </tr>\n",
       "  </tbody>\n",
       "</table>\n",
       "</div>"
      ],
      "text/plain": [
       "        date     open     high      low    close     volume  us dollar index  \\\n",
       "0 2008-07-01  2799.20  2809.38  2690.18  2698.35  288515.85            72.34   \n",
       "1 2008-07-02  2702.63  2745.94  2670.06  2699.60  279163.65            71.99   \n",
       "\n",
       "   shibor        macd         cci      atr         boll        ema20  \\\n",
       "0  2.5006 -213.078565 -128.949052  119.200  3173.475692  3033.748201   \n",
       "1  2.7238 -213.732249 -139.719688   75.875  3140.413385  3001.924277   \n",
       "\n",
       "        ma10     mtm6        ma5    mtm12       roc       smi          wvad  \n",
       "0  2851.2504  -91.594  2851.3262 -280.770 -9.424605 -0.097927 -8.726278e+07  \n",
       "1  2822.0828 -152.318  2797.3382 -252.645 -8.557733 -0.026497 -1.095493e+08  "
      ]
     },
     "execution_count": 4,
     "metadata": {},
     "output_type": "execute_result"
    }
   ],
   "source": [
    "dict_dataframes_index['csi300 index data'].head(2)"
   ]
  },
  {
   "cell_type": "code",
   "execution_count": 5,
   "metadata": {},
   "outputs": [],
   "source": [
    "#df = dict_dataframes_index['csi300 index data']\n",
    "#df = df.set_index(df['date'])"
   ]
  },
  {
   "cell_type": "code",
   "execution_count": 6,
   "metadata": {},
   "outputs": [],
   "source": [
    "# df_tvt1 = df[(df['date'] >= '2008-7-01') & (df['date'] <= '2011-01-01')]\n",
    "# df_tvt2 = df[(df['date'] >= '2008-10-01') & (df['date'] <= '2011-04-01')]\n",
    "# df_tvt3 = df[(df['date'] >= '2009-01-01') & (df['date'] <= '2011-07-01')]"
   ]
  },
  {
   "cell_type": "code",
   "execution_count": 7,
   "metadata": {},
   "outputs": [],
   "source": [
    "#df['date'][0] "
   ]
  },
  {
   "cell_type": "code",
   "execution_count": 8,
   "metadata": {},
   "outputs": [],
   "source": [
    "#df['date'][0]+monthdelta(30) "
   ]
  },
  {
   "cell_type": "code",
   "execution_count": 9,
   "metadata": {},
   "outputs": [],
   "source": [
    "def interval_split(df):\n",
    "    dict_dataframes = {}\n",
    "    split_count = 24\n",
    "    month_increment = 0\n",
    "    interval_index = 1\n",
    "    \n",
    "    df = df.set_index(df['date'])\n",
    "    while split_count > 0:\n",
    "        front = df['date'][0] \n",
    "        front = front + monthdelta(month_increment)\n",
    "        back = df['date'][0]+monthdelta(30) \n",
    "        back = back + monthdelta(month_increment)\n",
    "        month_increment += 3\n",
    "        split_count -= 1\n",
    "        df_interval = pd.DataFrame(df[(df['date'] >= front) & (df['date'] <= back)])\n",
    "        dict_dataframes[interval_index] = df_interval\n",
    "        interval_index += 1\n",
    "        #print(front,back)\n",
    "    return dict_dataframes\n",
    "\n",
    "def dict_interval_split(dict_dataframes):\n",
    "    subdict_dataframes = {}\n",
    "    for dataframe in dict_dataframes:\n",
    "        #print(dataframe)\n",
    "        subdict_dataframes[dataframe] = interval_split(dict_dataframes[dataframe])\n",
    "    return subdict_dataframes"
   ]
  },
  {
   "cell_type": "code",
   "execution_count": 10,
   "metadata": {},
   "outputs": [],
   "source": [
    "dict_df_interval = dict_interval_split(dict_dataframes_index)"
   ]
  },
  {
   "cell_type": "code",
   "execution_count": 11,
   "metadata": {},
   "outputs": [
    {
     "data": {
      "text/plain": [
       "dict_keys(['csi300 index data', 'nifty 50 index data', 'hangseng index data', 'nikkei 225 index data', 's&p500 index data', 'djia index data'])"
      ]
     },
     "execution_count": 11,
     "metadata": {},
     "output_type": "execute_result"
    }
   ],
   "source": [
    "dict_df_interval.keys()"
   ]
  },
  {
   "cell_type": "code",
   "execution_count": 12,
   "metadata": {
    "scrolled": true
   },
   "outputs": [
    {
     "data": {
      "text/html": [
       "<div>\n",
       "<style scoped>\n",
       "    .dataframe tbody tr th:only-of-type {\n",
       "        vertical-align: middle;\n",
       "    }\n",
       "\n",
       "    .dataframe tbody tr th {\n",
       "        vertical-align: top;\n",
       "    }\n",
       "\n",
       "    .dataframe thead th {\n",
       "        text-align: right;\n",
       "    }\n",
       "</style>\n",
       "<table border=\"1\" class=\"dataframe\">\n",
       "  <thead>\n",
       "    <tr style=\"text-align: right;\">\n",
       "      <th></th>\n",
       "      <th>date</th>\n",
       "      <th>open</th>\n",
       "      <th>high</th>\n",
       "      <th>low</th>\n",
       "      <th>close</th>\n",
       "      <th>volume</th>\n",
       "      <th>us dollar index</th>\n",
       "      <th>shibor</th>\n",
       "      <th>macd</th>\n",
       "      <th>cci</th>\n",
       "      <th>atr</th>\n",
       "      <th>boll</th>\n",
       "      <th>ema20</th>\n",
       "      <th>ma10</th>\n",
       "      <th>mtm6</th>\n",
       "      <th>ma5</th>\n",
       "      <th>mtm12</th>\n",
       "      <th>roc</th>\n",
       "      <th>smi</th>\n",
       "      <th>wvad</th>\n",
       "    </tr>\n",
       "    <tr>\n",
       "      <th>date</th>\n",
       "      <th></th>\n",
       "      <th></th>\n",
       "      <th></th>\n",
       "      <th></th>\n",
       "      <th></th>\n",
       "      <th></th>\n",
       "      <th></th>\n",
       "      <th></th>\n",
       "      <th></th>\n",
       "      <th></th>\n",
       "      <th></th>\n",
       "      <th></th>\n",
       "      <th></th>\n",
       "      <th></th>\n",
       "      <th></th>\n",
       "      <th></th>\n",
       "      <th></th>\n",
       "      <th></th>\n",
       "      <th></th>\n",
       "      <th></th>\n",
       "    </tr>\n",
       "  </thead>\n",
       "  <tbody>\n",
       "    <tr>\n",
       "      <th>2008-07-01</th>\n",
       "      <td>2008-07-01</td>\n",
       "      <td>2799.20</td>\n",
       "      <td>2809.38</td>\n",
       "      <td>2690.18</td>\n",
       "      <td>2698.35</td>\n",
       "      <td>288515.85</td>\n",
       "      <td>72.34</td>\n",
       "      <td>2.5006</td>\n",
       "      <td>-213.078565</td>\n",
       "      <td>-128.949052</td>\n",
       "      <td>119.200</td>\n",
       "      <td>3173.475692</td>\n",
       "      <td>3033.748201</td>\n",
       "      <td>2851.2504</td>\n",
       "      <td>-91.594</td>\n",
       "      <td>2851.3262</td>\n",
       "      <td>-280.770</td>\n",
       "      <td>-9.424605</td>\n",
       "      <td>-0.097927</td>\n",
       "      <td>-8.726278e+07</td>\n",
       "    </tr>\n",
       "    <tr>\n",
       "      <th>2008-07-02</th>\n",
       "      <td>2008-07-02</td>\n",
       "      <td>2702.63</td>\n",
       "      <td>2745.94</td>\n",
       "      <td>2670.06</td>\n",
       "      <td>2699.60</td>\n",
       "      <td>279163.65</td>\n",
       "      <td>71.99</td>\n",
       "      <td>2.7238</td>\n",
       "      <td>-213.732249</td>\n",
       "      <td>-139.719688</td>\n",
       "      <td>75.875</td>\n",
       "      <td>3140.413385</td>\n",
       "      <td>3001.924277</td>\n",
       "      <td>2822.0828</td>\n",
       "      <td>-152.318</td>\n",
       "      <td>2797.3382</td>\n",
       "      <td>-252.645</td>\n",
       "      <td>-8.557733</td>\n",
       "      <td>-0.026497</td>\n",
       "      <td>-1.095493e+08</td>\n",
       "    </tr>\n",
       "  </tbody>\n",
       "</table>\n",
       "</div>"
      ],
      "text/plain": [
       "                 date     open     high      low    close     volume  \\\n",
       "date                                                                   \n",
       "2008-07-01 2008-07-01  2799.20  2809.38  2690.18  2698.35  288515.85   \n",
       "2008-07-02 2008-07-02  2702.63  2745.94  2670.06  2699.60  279163.65   \n",
       "\n",
       "            us dollar index  shibor        macd         cci      atr  \\\n",
       "date                                                                   \n",
       "2008-07-01            72.34  2.5006 -213.078565 -128.949052  119.200   \n",
       "2008-07-02            71.99  2.7238 -213.732249 -139.719688   75.875   \n",
       "\n",
       "                   boll        ema20       ma10     mtm6        ma5    mtm12  \\\n",
       "date                                                                           \n",
       "2008-07-01  3173.475692  3033.748201  2851.2504  -91.594  2851.3262 -280.770   \n",
       "2008-07-02  3140.413385  3001.924277  2822.0828 -152.318  2797.3382 -252.645   \n",
       "\n",
       "                 roc       smi          wvad  \n",
       "date                                          \n",
       "2008-07-01 -9.424605 -0.097927 -8.726278e+07  \n",
       "2008-07-02 -8.557733 -0.026497 -1.095493e+08  "
      ]
     },
     "execution_count": 12,
     "metadata": {},
     "output_type": "execute_result"
    }
   ],
   "source": [
    "dict_df_interval['csi300 index data'][1].head(2)"
   ]
  },
  {
   "cell_type": "code",
   "execution_count": 13,
   "metadata": {
    "scrolled": false
   },
   "outputs": [
    {
     "data": {
      "text/html": [
       "<div>\n",
       "<style scoped>\n",
       "    .dataframe tbody tr th:only-of-type {\n",
       "        vertical-align: middle;\n",
       "    }\n",
       "\n",
       "    .dataframe tbody tr th {\n",
       "        vertical-align: top;\n",
       "    }\n",
       "\n",
       "    .dataframe thead th {\n",
       "        text-align: right;\n",
       "    }\n",
       "</style>\n",
       "<table border=\"1\" class=\"dataframe\">\n",
       "  <thead>\n",
       "    <tr style=\"text-align: right;\">\n",
       "      <th></th>\n",
       "      <th>date</th>\n",
       "      <th>open</th>\n",
       "      <th>high</th>\n",
       "      <th>low</th>\n",
       "      <th>close</th>\n",
       "      <th>volume</th>\n",
       "      <th>us dollar index</th>\n",
       "      <th>shibor</th>\n",
       "      <th>macd</th>\n",
       "      <th>cci</th>\n",
       "      <th>atr</th>\n",
       "      <th>boll</th>\n",
       "      <th>ema20</th>\n",
       "      <th>ma10</th>\n",
       "      <th>mtm6</th>\n",
       "      <th>ma5</th>\n",
       "      <th>mtm12</th>\n",
       "      <th>roc</th>\n",
       "      <th>smi</th>\n",
       "      <th>wvad</th>\n",
       "    </tr>\n",
       "    <tr>\n",
       "      <th>date</th>\n",
       "      <th></th>\n",
       "      <th></th>\n",
       "      <th></th>\n",
       "      <th></th>\n",
       "      <th></th>\n",
       "      <th></th>\n",
       "      <th></th>\n",
       "      <th></th>\n",
       "      <th></th>\n",
       "      <th></th>\n",
       "      <th></th>\n",
       "      <th></th>\n",
       "      <th></th>\n",
       "      <th></th>\n",
       "      <th></th>\n",
       "      <th></th>\n",
       "      <th></th>\n",
       "      <th></th>\n",
       "      <th></th>\n",
       "      <th></th>\n",
       "    </tr>\n",
       "  </thead>\n",
       "  <tbody>\n",
       "    <tr>\n",
       "      <th>2014-04-01</th>\n",
       "      <td>2014-04-01</td>\n",
       "      <td>2143.72</td>\n",
       "      <td>2170.10</td>\n",
       "      <td>2141.15</td>\n",
       "      <td>2163.12</td>\n",
       "      <td>488664.03</td>\n",
       "      <td>80.08</td>\n",
       "      <td>2.866</td>\n",
       "      <td>-11.448999</td>\n",
       "      <td>45.062472</td>\n",
       "      <td>28.944</td>\n",
       "      <td>2150.219000</td>\n",
       "      <td>2158.446226</td>\n",
       "      <td>2150.5768</td>\n",
       "      <td>-13.439</td>\n",
       "      <td>2157.6278</td>\n",
       "      <td>40.279</td>\n",
       "      <td>1.897415</td>\n",
       "      <td>0.019530</td>\n",
       "      <td>7.622596e+07</td>\n",
       "    </tr>\n",
       "    <tr>\n",
       "      <th>2014-04-02</th>\n",
       "      <td>2014-04-02</td>\n",
       "      <td>2166.07</td>\n",
       "      <td>2182.68</td>\n",
       "      <td>2164.01</td>\n",
       "      <td>2180.73</td>\n",
       "      <td>650392.57</td>\n",
       "      <td>80.23</td>\n",
       "      <td>2.950</td>\n",
       "      <td>-8.435674</td>\n",
       "      <td>93.409788</td>\n",
       "      <td>19.568</td>\n",
       "      <td>2151.096615</td>\n",
       "      <td>2160.568204</td>\n",
       "      <td>2156.5625</td>\n",
       "      <td>6.287</td>\n",
       "      <td>2159.5638</td>\n",
       "      <td>37.689</td>\n",
       "      <td>1.758672</td>\n",
       "      <td>0.042995</td>\n",
       "      <td>1.775670e+08</td>\n",
       "    </tr>\n",
       "  </tbody>\n",
       "</table>\n",
       "</div>"
      ],
      "text/plain": [
       "                 date     open     high      low    close     volume  \\\n",
       "date                                                                   \n",
       "2014-04-01 2014-04-01  2143.72  2170.10  2141.15  2163.12  488664.03   \n",
       "2014-04-02 2014-04-02  2166.07  2182.68  2164.01  2180.73  650392.57   \n",
       "\n",
       "            us dollar index  shibor       macd        cci     atr  \\\n",
       "date                                                                \n",
       "2014-04-01            80.08   2.866 -11.448999  45.062472  28.944   \n",
       "2014-04-02            80.23   2.950  -8.435674  93.409788  19.568   \n",
       "\n",
       "                   boll        ema20       ma10    mtm6        ma5   mtm12  \\\n",
       "date                                                                         \n",
       "2014-04-01  2150.219000  2158.446226  2150.5768 -13.439  2157.6278  40.279   \n",
       "2014-04-02  2151.096615  2160.568204  2156.5625   6.287  2159.5638  37.689   \n",
       "\n",
       "                 roc       smi          wvad  \n",
       "date                                          \n",
       "2014-04-01  1.897415  0.019530  7.622596e+07  \n",
       "2014-04-02  1.758672  0.042995  1.775670e+08  "
      ]
     },
     "execution_count": 13,
     "metadata": {},
     "output_type": "execute_result"
    }
   ],
   "source": [
    "dict_df_interval['csi300 index data'][24].head(2)"
   ]
  },
  {
   "cell_type": "code",
   "execution_count": 14,
   "metadata": {},
   "outputs": [
    {
     "data": {
      "text/plain": [
       "dict"
      ]
     },
     "execution_count": 14,
     "metadata": {},
     "output_type": "execute_result"
    }
   ],
   "source": [
    "type(dict_df_interval)"
   ]
  },
  {
   "cell_type": "code",
   "execution_count": 15,
   "metadata": {},
   "outputs": [
    {
     "data": {
      "text/plain": [
       "dict_keys(['csi300 index data', 'nifty 50 index data', 'hangseng index data', 'nikkei 225 index data', 's&p500 index data', 'djia index data'])"
      ]
     },
     "execution_count": 15,
     "metadata": {},
     "output_type": "execute_result"
    }
   ],
   "source": [
    "dict_df_interval.keys()"
   ]
  },
  {
   "cell_type": "code",
   "execution_count": 28,
   "metadata": {},
   "outputs": [],
   "source": [
    "filename = \"../data/pickled/clean_data_index_interval\"\n",
    "outfile = open(filename,'wb')\n",
    "pickle.dump(dict_df_interval,outfile)\n",
    "outfile.close()"
   ]
  },
  {
   "cell_type": "code",
   "execution_count": null,
   "metadata": {},
   "outputs": [],
   "source": []
  },
  {
   "cell_type": "code",
   "execution_count": 29,
   "metadata": {
    "scrolled": false
   },
   "outputs": [],
   "source": [
    "infile = open(\"../data/pickled/clean_data_index_interval\",'rb')\n",
    "new_dict = pickle.load(infile)\n",
    "infile.close()"
   ]
  },
  {
   "cell_type": "code",
   "execution_count": 25,
   "metadata": {},
   "outputs": [
    {
     "data": {
      "text/plain": [
       "6"
      ]
     },
     "execution_count": 25,
     "metadata": {},
     "output_type": "execute_result"
    }
   ],
   "source": [
    "len(new_dict)"
   ]
  },
  {
   "cell_type": "code",
   "execution_count": 26,
   "metadata": {},
   "outputs": [
    {
     "data": {
      "text/html": [
       "<div>\n",
       "<style scoped>\n",
       "    .dataframe tbody tr th:only-of-type {\n",
       "        vertical-align: middle;\n",
       "    }\n",
       "\n",
       "    .dataframe tbody tr th {\n",
       "        vertical-align: top;\n",
       "    }\n",
       "\n",
       "    .dataframe thead th {\n",
       "        text-align: right;\n",
       "    }\n",
       "</style>\n",
       "<table border=\"1\" class=\"dataframe\">\n",
       "  <thead>\n",
       "    <tr style=\"text-align: right;\">\n",
       "      <th></th>\n",
       "      <th>date</th>\n",
       "      <th>open</th>\n",
       "      <th>high</th>\n",
       "      <th>low</th>\n",
       "      <th>close</th>\n",
       "      <th>volume</th>\n",
       "      <th>us dollar index</th>\n",
       "      <th>shibor</th>\n",
       "      <th>macd</th>\n",
       "      <th>cci</th>\n",
       "      <th>atr</th>\n",
       "      <th>boll</th>\n",
       "      <th>ema20</th>\n",
       "      <th>ma10</th>\n",
       "      <th>mtm6</th>\n",
       "      <th>ma5</th>\n",
       "      <th>mtm12</th>\n",
       "      <th>roc</th>\n",
       "      <th>smi</th>\n",
       "      <th>wvad</th>\n",
       "    </tr>\n",
       "    <tr>\n",
       "      <th>date</th>\n",
       "      <th></th>\n",
       "      <th></th>\n",
       "      <th></th>\n",
       "      <th></th>\n",
       "      <th></th>\n",
       "      <th></th>\n",
       "      <th></th>\n",
       "      <th></th>\n",
       "      <th></th>\n",
       "      <th></th>\n",
       "      <th></th>\n",
       "      <th></th>\n",
       "      <th></th>\n",
       "      <th></th>\n",
       "      <th></th>\n",
       "      <th></th>\n",
       "      <th></th>\n",
       "      <th></th>\n",
       "      <th></th>\n",
       "      <th></th>\n",
       "    </tr>\n",
       "  </thead>\n",
       "  <tbody>\n",
       "    <tr>\n",
       "      <th>2008-07-01</th>\n",
       "      <td>2008-07-01</td>\n",
       "      <td>2799.20</td>\n",
       "      <td>2809.38</td>\n",
       "      <td>2690.18</td>\n",
       "      <td>2698.35</td>\n",
       "      <td>288515.85</td>\n",
       "      <td>72.34</td>\n",
       "      <td>2.5006</td>\n",
       "      <td>-213.078565</td>\n",
       "      <td>-128.949052</td>\n",
       "      <td>119.200</td>\n",
       "      <td>3173.475692</td>\n",
       "      <td>3033.748201</td>\n",
       "      <td>2851.2504</td>\n",
       "      <td>-91.594</td>\n",
       "      <td>2851.3262</td>\n",
       "      <td>-280.770</td>\n",
       "      <td>-9.424605</td>\n",
       "      <td>-0.097927</td>\n",
       "      <td>-8.726278e+07</td>\n",
       "    </tr>\n",
       "    <tr>\n",
       "      <th>2008-07-02</th>\n",
       "      <td>2008-07-02</td>\n",
       "      <td>2702.63</td>\n",
       "      <td>2745.94</td>\n",
       "      <td>2670.06</td>\n",
       "      <td>2699.60</td>\n",
       "      <td>279163.65</td>\n",
       "      <td>71.99</td>\n",
       "      <td>2.7238</td>\n",
       "      <td>-213.732249</td>\n",
       "      <td>-139.719688</td>\n",
       "      <td>75.875</td>\n",
       "      <td>3140.413385</td>\n",
       "      <td>3001.924277</td>\n",
       "      <td>2822.0828</td>\n",
       "      <td>-152.318</td>\n",
       "      <td>2797.3382</td>\n",
       "      <td>-252.645</td>\n",
       "      <td>-8.557733</td>\n",
       "      <td>-0.026497</td>\n",
       "      <td>-1.095493e+08</td>\n",
       "    </tr>\n",
       "    <tr>\n",
       "      <th>2008-07-03</th>\n",
       "      <td>2008-07-03</td>\n",
       "      <td>2654.48</td>\n",
       "      <td>2807.68</td>\n",
       "      <td>2617.26</td>\n",
       "      <td>2760.61</td>\n",
       "      <td>456603.05</td>\n",
       "      <td>72.73</td>\n",
       "      <td>2.5762</td>\n",
       "      <td>-206.941406</td>\n",
       "      <td>-112.113057</td>\n",
       "      <td>190.424</td>\n",
       "      <td>3109.044731</td>\n",
       "      <td>2978.942155</td>\n",
       "      <td>2820.8364</td>\n",
       "      <td>-208.925</td>\n",
       "      <td>2753.2792</td>\n",
       "      <td>-82.064</td>\n",
       "      <td>-2.886857</td>\n",
       "      <td>-0.031251</td>\n",
       "      <td>-5.855737e+07</td>\n",
       "    </tr>\n",
       "    <tr>\n",
       "      <th>2008-07-04</th>\n",
       "      <td>2008-07-04</td>\n",
       "      <td>2751.21</td>\n",
       "      <td>2783.85</td>\n",
       "      <td>2716.02</td>\n",
       "      <td>2741.85</td>\n",
       "      <td>379050.10</td>\n",
       "      <td>72.71</td>\n",
       "      <td>2.5632</td>\n",
       "      <td>-200.759162</td>\n",
       "      <td>-81.997539</td>\n",
       "      <td>67.825</td>\n",
       "      <td>3073.107115</td>\n",
       "      <td>2956.362140</td>\n",
       "      <td>2810.0548</td>\n",
       "      <td>-239.055</td>\n",
       "      <td>2738.4454</td>\n",
       "      <td>-249.421</td>\n",
       "      <td>-8.338289</td>\n",
       "      <td>-0.017237</td>\n",
       "      <td>-7.467503e+07</td>\n",
       "    </tr>\n",
       "    <tr>\n",
       "      <th>2008-07-07</th>\n",
       "      <td>2008-07-07</td>\n",
       "      <td>2747.61</td>\n",
       "      <td>2890.99</td>\n",
       "      <td>2747.61</td>\n",
       "      <td>2882.76</td>\n",
       "      <td>527320.24</td>\n",
       "      <td>72.71</td>\n",
       "      <td>2.5679</td>\n",
       "      <td>-182.386907</td>\n",
       "      <td>21.707767</td>\n",
       "      <td>149.133</td>\n",
       "      <td>3046.256923</td>\n",
       "      <td>2949.352699</td>\n",
       "      <td>2819.3370</td>\n",
       "      <td>66.742</td>\n",
       "      <td>2756.6342</td>\n",
       "      <td>109.687</td>\n",
       "      <td>3.955427</td>\n",
       "      <td>0.010701</td>\n",
       "      <td>-3.531151e+07</td>\n",
       "    </tr>\n",
       "  </tbody>\n",
       "</table>\n",
       "</div>"
      ],
      "text/plain": [
       "                 date     open     high      low    close     volume  \\\n",
       "date                                                                   \n",
       "2008-07-01 2008-07-01  2799.20  2809.38  2690.18  2698.35  288515.85   \n",
       "2008-07-02 2008-07-02  2702.63  2745.94  2670.06  2699.60  279163.65   \n",
       "2008-07-03 2008-07-03  2654.48  2807.68  2617.26  2760.61  456603.05   \n",
       "2008-07-04 2008-07-04  2751.21  2783.85  2716.02  2741.85  379050.10   \n",
       "2008-07-07 2008-07-07  2747.61  2890.99  2747.61  2882.76  527320.24   \n",
       "\n",
       "            us dollar index  shibor        macd         cci      atr  \\\n",
       "date                                                                   \n",
       "2008-07-01            72.34  2.5006 -213.078565 -128.949052  119.200   \n",
       "2008-07-02            71.99  2.7238 -213.732249 -139.719688   75.875   \n",
       "2008-07-03            72.73  2.5762 -206.941406 -112.113057  190.424   \n",
       "2008-07-04            72.71  2.5632 -200.759162  -81.997539   67.825   \n",
       "2008-07-07            72.71  2.5679 -182.386907   21.707767  149.133   \n",
       "\n",
       "                   boll        ema20       ma10     mtm6        ma5    mtm12  \\\n",
       "date                                                                           \n",
       "2008-07-01  3173.475692  3033.748201  2851.2504  -91.594  2851.3262 -280.770   \n",
       "2008-07-02  3140.413385  3001.924277  2822.0828 -152.318  2797.3382 -252.645   \n",
       "2008-07-03  3109.044731  2978.942155  2820.8364 -208.925  2753.2792  -82.064   \n",
       "2008-07-04  3073.107115  2956.362140  2810.0548 -239.055  2738.4454 -249.421   \n",
       "2008-07-07  3046.256923  2949.352699  2819.3370   66.742  2756.6342  109.687   \n",
       "\n",
       "                 roc       smi          wvad  \n",
       "date                                          \n",
       "2008-07-01 -9.424605 -0.097927 -8.726278e+07  \n",
       "2008-07-02 -8.557733 -0.026497 -1.095493e+08  \n",
       "2008-07-03 -2.886857 -0.031251 -5.855737e+07  \n",
       "2008-07-04 -8.338289 -0.017237 -7.467503e+07  \n",
       "2008-07-07  3.955427  0.010701 -3.531151e+07  "
      ]
     },
     "execution_count": 26,
     "metadata": {},
     "output_type": "execute_result"
    }
   ],
   "source": [
    "new_dict['csi300 index data'][1].head()"
   ]
  },
  {
   "cell_type": "code",
   "execution_count": 27,
   "metadata": {
    "scrolled": true
   },
   "outputs": [],
   "source": [
    "#dict_dataframes.keys()"
   ]
  },
  {
   "cell_type": "code",
   "execution_count": 100,
   "metadata": {},
   "outputs": [],
   "source": [
    "#frames_to_excel(dict_dataframes,\"../data/processed/clean_data_index_interval.xlsx\")"
   ]
  },
  {
   "cell_type": "code",
   "execution_count": null,
   "metadata": {},
   "outputs": [],
   "source": []
  },
  {
   "cell_type": "code",
   "execution_count": null,
   "metadata": {},
   "outputs": [],
   "source": []
  },
  {
   "cell_type": "code",
   "execution_count": 101,
   "metadata": {},
   "outputs": [],
   "source": [
    "#dict_dataframes = interval_split(dict_dataframes_index['csi300 index data'])"
   ]
  },
  {
   "cell_type": "code",
   "execution_count": 102,
   "metadata": {
    "scrolled": true
   },
   "outputs": [],
   "source": [
    "#dict_dataframes.keys()"
   ]
  },
  {
   "cell_type": "code",
   "execution_count": 103,
   "metadata": {
    "scrolled": false
   },
   "outputs": [],
   "source": [
    "#dict_dataframes[1].head(2)"
   ]
  },
  {
   "cell_type": "code",
   "execution_count": null,
   "metadata": {},
   "outputs": [],
   "source": []
  },
  {
   "cell_type": "code",
   "execution_count": 104,
   "metadata": {
    "scrolled": true
   },
   "outputs": [],
   "source": [
    "# dict_dataframes_index['csi300 index data'].drop(['date'],axis=1,inplace=True)\n",
    "# dict_dataframes_index['csi300 index data'].values"
   ]
  },
  {
   "cell_type": "code",
   "execution_count": 105,
   "metadata": {},
   "outputs": [],
   "source": [
    "# validating\n",
    "#df_train['date'][0]+monthdelta(3)"
   ]
  },
  {
   "cell_type": "code",
   "execution_count": 106,
   "metadata": {},
   "outputs": [],
   "source": [
    "# testing\n",
    "#df_train['date'][-1]+monthdelta(6)"
   ]
  },
  {
   "cell_type": "code",
   "execution_count": null,
   "metadata": {},
   "outputs": [],
   "source": []
  },
  {
   "cell_type": "code",
   "execution_count": null,
   "metadata": {},
   "outputs": [],
   "source": []
  },
  {
   "cell_type": "code",
   "execution_count": 107,
   "metadata": {},
   "outputs": [],
   "source": [
    "# dict_dataframes_index['csi300 index data'].drop(['date'],axis=1,inplace=True)\n",
    "# dict_dataframes_index['csi300 index data'].values"
   ]
  },
  {
   "cell_type": "code",
   "execution_count": 108,
   "metadata": {},
   "outputs": [],
   "source": [
    "# from sklearn.model_selection import TimeSeriesSplit\n",
    "# X = dict_dataframes_index['csi300 index data'].values\n",
    "# tscv = TimeSeriesSplit(n_splits=6)\n",
    "# for train_index, test_index in tscv.split(X):\n",
    "#     train = X[train_index]\n",
    "#     test = X[test_index]\n",
    "#     print('Observations: %d' % (len(train) + len(test)))\n",
    "#     print('Training Observations: %d' % (len(train)))\n",
    "#     print('Testing Observations: %d' % (len(test)))"
   ]
  },
  {
   "cell_type": "code",
   "execution_count": null,
   "metadata": {},
   "outputs": [],
   "source": []
  },
  {
   "cell_type": "code",
   "execution_count": null,
   "metadata": {},
   "outputs": [],
   "source": []
  },
  {
   "cell_type": "code",
   "execution_count": null,
   "metadata": {
    "scrolled": true
   },
   "outputs": [],
   "source": []
  },
  {
   "cell_type": "code",
   "execution_count": null,
   "metadata": {},
   "outputs": [],
   "source": []
  }
 ],
 "metadata": {
  "kernelspec": {
   "display_name": "Python 3",
   "language": "python",
   "name": "python3"
  },
  "language_info": {
   "codemirror_mode": {
    "name": "ipython",
    "version": 3
   },
   "file_extension": ".py",
   "mimetype": "text/x-python",
   "name": "python",
   "nbconvert_exporter": "python",
   "pygments_lexer": "ipython3",
   "version": "3.6.6"
  }
 },
 "nbformat": 4,
 "nbformat_minor": 2
}
