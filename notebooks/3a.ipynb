{
 "cells": [
  {
   "cell_type": "code",
   "execution_count": 23,
   "metadata": {},
   "outputs": [],
   "source": [
    "# Imports (External)\n",
    "import numpy as np\n",
    "import pandas as pd\n",
    "import datetime as dt\n",
    "import xlrd\n",
    "import xlsxwriter\n",
    "from collections import OrderedDict\n",
    "import copy\n",
    "\n",
    "import sys\n",
    "sys.path.append('../')  \n",
    "\n",
    "# Visualization/plotting imports\n",
    "import matplotlib as mpl\n",
    "import matplotlib.pyplot as plt\n",
    "from matplotlib.backends.backend_pdf import PdfPages\n",
    "\n",
    "import pywt\n",
    "from pywt import wavedec, waverec\n",
    "from scipy import signal\n",
    "from statsmodels.robust import mad\n",
    "\n",
    "# Internal Imports\n",
    "from wsae_lstm.utils import dictmap_load,pickle_load,pickle_save\n",
    "from wsae_lstm.models.wavelet import denoise_periods"
   ]
  },
  {
   "cell_type": "code",
   "execution_count": 24,
   "metadata": {},
   "outputs": [],
   "source": [
    "dict_dataframes_index=pickle_load(path_filename=\"../data/interim/cdii_tvt_split.pickle\")\n",
    "ddi_denoised=pickle_load(path_filename=\"../data/interim/cdii_tvt_split_denoised.pickle\")"
   ]
  },
  {
   "cell_type": "code",
   "execution_count": 37,
   "metadata": {},
   "outputs": [
    {
     "data": {
      "text/plain": [
       "dict_keys(['csi300 index data', 'nifty 50 index data', 'hangseng index data', 'nikkei 225 index data', 's&p500 index data', 'djia index data'])"
      ]
     },
     "execution_count": 37,
     "metadata": {},
     "output_type": "execute_result"
    }
   ],
   "source": [
    "dict_dataframes_index.keys()"
   ]
  },
  {
   "cell_type": "code",
   "execution_count": null,
   "metadata": {},
   "outputs": [],
   "source": []
  }
 ],
 "metadata": {
  "kernelspec": {
   "display_name": "Python 3",
   "language": "python",
   "name": "python3"
  },
  "language_info": {
   "codemirror_mode": {
    "name": "ipython",
    "version": 3
   },
   "file_extension": ".py",
   "mimetype": "text/x-python",
   "name": "python",
   "nbconvert_exporter": "python",
   "pygments_lexer": "ipython3",
   "version": "3.6.6"
  }
 },
 "nbformat": 4,
 "nbformat_minor": 2
}
