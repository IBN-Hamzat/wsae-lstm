{
 "cells": [
  {
   "cell_type": "code",
   "execution_count": 22,
   "metadata": {},
   "outputs": [],
   "source": [
    "# Imports (External)\n",
    "import numpy as np\n",
    "import pandas as pd\n",
    "import datetime\n",
    "from datetime import datetime\n",
    "\n",
    "from monthdelta import monthdelta\n",
    "import xlrd\n",
    "import xlsxwriter\n",
    "from collections import OrderedDict\n",
    "import pickle\n",
    "\n",
    "import sys\n",
    "sys.path.append('../')  \n",
    "\n",
    "# Visualization/plotting imports\n",
    "import matplotlib as mpl\n",
    "import matplotlib.pyplot as plt\n",
    "\n",
    "# Machine learning imports\n",
    "import pywt\n",
    "from pywt import wavedec, waverec\n",
    "from scipy import signal\n",
    "from statsmodels.robust import mad\n",
    "\n",
    "import sklearn\n",
    "import tensorflow as tf\n",
    "import keras\n",
    "from keras.layers import Input, Dense\n",
    "from keras.models import Model, Sequential\n",
    "from keras import optimizers\n",
    "from keras import regularizers\n",
    "\n",
    "# Internal Imports\n",
    "from wsae_lstm.utils import pickle_load"
   ]
  },
  {
   "cell_type": "code",
   "execution_count": 23,
   "metadata": {},
   "outputs": [],
   "source": [
    "dict_dataframes_index=pickle_load(path_filename=\"../data/pickled/clean_data_index_interval\")\n",
    "#dict_dataframes_index.keys()"
   ]
  },
  {
   "cell_type": "code",
   "execution_count": 24,
   "metadata": {},
   "outputs": [],
   "source": [
    "#dict_dataframes_index['csi300 index data'][1].drop(['date'],axis=1,inplace=True)"
   ]
  },
  {
   "cell_type": "code",
   "execution_count": 25,
   "metadata": {},
   "outputs": [],
   "source": [
    "#dict_dataframes_index['csi300 index data'][1].reset_index(drop=True,inplace=True)"
   ]
  },
  {
   "cell_type": "code",
   "execution_count": 26,
   "metadata": {},
   "outputs": [
    {
     "data": {
      "text/html": [
       "<div>\n",
       "<style scoped>\n",
       "    .dataframe tbody tr th:only-of-type {\n",
       "        vertical-align: middle;\n",
       "    }\n",
       "\n",
       "    .dataframe tbody tr th {\n",
       "        vertical-align: top;\n",
       "    }\n",
       "\n",
       "    .dataframe thead th {\n",
       "        text-align: right;\n",
       "    }\n",
       "</style>\n",
       "<table border=\"1\" class=\"dataframe\">\n",
       "  <thead>\n",
       "    <tr style=\"text-align: right;\">\n",
       "      <th></th>\n",
       "      <th>open</th>\n",
       "      <th>high</th>\n",
       "      <th>low</th>\n",
       "      <th>close</th>\n",
       "      <th>volume</th>\n",
       "      <th>us dollar index</th>\n",
       "      <th>shibor</th>\n",
       "      <th>macd</th>\n",
       "      <th>cci</th>\n",
       "      <th>atr</th>\n",
       "      <th>boll</th>\n",
       "      <th>ema20</th>\n",
       "      <th>ma10</th>\n",
       "      <th>mtm6</th>\n",
       "      <th>ma5</th>\n",
       "      <th>mtm12</th>\n",
       "      <th>roc</th>\n",
       "      <th>smi</th>\n",
       "      <th>wvad</th>\n",
       "    </tr>\n",
       "    <tr>\n",
       "      <th>date</th>\n",
       "      <th></th>\n",
       "      <th></th>\n",
       "      <th></th>\n",
       "      <th></th>\n",
       "      <th></th>\n",
       "      <th></th>\n",
       "      <th></th>\n",
       "      <th></th>\n",
       "      <th></th>\n",
       "      <th></th>\n",
       "      <th></th>\n",
       "      <th></th>\n",
       "      <th></th>\n",
       "      <th></th>\n",
       "      <th></th>\n",
       "      <th></th>\n",
       "      <th></th>\n",
       "      <th></th>\n",
       "      <th></th>\n",
       "    </tr>\n",
       "  </thead>\n",
       "  <tbody>\n",
       "    <tr>\n",
       "      <th>2008-07-01</th>\n",
       "      <td>2799.20</td>\n",
       "      <td>2809.38</td>\n",
       "      <td>2690.18</td>\n",
       "      <td>2698.35</td>\n",
       "      <td>288515.85</td>\n",
       "      <td>72.34</td>\n",
       "      <td>2.5006</td>\n",
       "      <td>-213.078565</td>\n",
       "      <td>-128.949052</td>\n",
       "      <td>119.200</td>\n",
       "      <td>3173.475692</td>\n",
       "      <td>3033.748201</td>\n",
       "      <td>2851.2504</td>\n",
       "      <td>-91.594</td>\n",
       "      <td>2851.3262</td>\n",
       "      <td>-280.770</td>\n",
       "      <td>-9.424605</td>\n",
       "      <td>-0.097927</td>\n",
       "      <td>-8.726278e+07</td>\n",
       "    </tr>\n",
       "    <tr>\n",
       "      <th>2008-07-02</th>\n",
       "      <td>2702.63</td>\n",
       "      <td>2745.94</td>\n",
       "      <td>2670.06</td>\n",
       "      <td>2699.60</td>\n",
       "      <td>279163.65</td>\n",
       "      <td>71.99</td>\n",
       "      <td>2.7238</td>\n",
       "      <td>-213.732249</td>\n",
       "      <td>-139.719688</td>\n",
       "      <td>75.875</td>\n",
       "      <td>3140.413385</td>\n",
       "      <td>3001.924277</td>\n",
       "      <td>2822.0828</td>\n",
       "      <td>-152.318</td>\n",
       "      <td>2797.3382</td>\n",
       "      <td>-252.645</td>\n",
       "      <td>-8.557733</td>\n",
       "      <td>-0.026497</td>\n",
       "      <td>-1.095493e+08</td>\n",
       "    </tr>\n",
       "    <tr>\n",
       "      <th>2008-07-03</th>\n",
       "      <td>2654.48</td>\n",
       "      <td>2807.68</td>\n",
       "      <td>2617.26</td>\n",
       "      <td>2760.61</td>\n",
       "      <td>456603.05</td>\n",
       "      <td>72.73</td>\n",
       "      <td>2.5762</td>\n",
       "      <td>-206.941406</td>\n",
       "      <td>-112.113057</td>\n",
       "      <td>190.424</td>\n",
       "      <td>3109.044731</td>\n",
       "      <td>2978.942155</td>\n",
       "      <td>2820.8364</td>\n",
       "      <td>-208.925</td>\n",
       "      <td>2753.2792</td>\n",
       "      <td>-82.064</td>\n",
       "      <td>-2.886857</td>\n",
       "      <td>-0.031251</td>\n",
       "      <td>-5.855737e+07</td>\n",
       "    </tr>\n",
       "    <tr>\n",
       "      <th>2008-07-04</th>\n",
       "      <td>2751.21</td>\n",
       "      <td>2783.85</td>\n",
       "      <td>2716.02</td>\n",
       "      <td>2741.85</td>\n",
       "      <td>379050.10</td>\n",
       "      <td>72.71</td>\n",
       "      <td>2.5632</td>\n",
       "      <td>-200.759162</td>\n",
       "      <td>-81.997539</td>\n",
       "      <td>67.825</td>\n",
       "      <td>3073.107115</td>\n",
       "      <td>2956.362140</td>\n",
       "      <td>2810.0548</td>\n",
       "      <td>-239.055</td>\n",
       "      <td>2738.4454</td>\n",
       "      <td>-249.421</td>\n",
       "      <td>-8.338289</td>\n",
       "      <td>-0.017237</td>\n",
       "      <td>-7.467503e+07</td>\n",
       "    </tr>\n",
       "    <tr>\n",
       "      <th>2008-07-07</th>\n",
       "      <td>2747.61</td>\n",
       "      <td>2890.99</td>\n",
       "      <td>2747.61</td>\n",
       "      <td>2882.76</td>\n",
       "      <td>527320.24</td>\n",
       "      <td>72.71</td>\n",
       "      <td>2.5679</td>\n",
       "      <td>-182.386907</td>\n",
       "      <td>21.707767</td>\n",
       "      <td>149.133</td>\n",
       "      <td>3046.256923</td>\n",
       "      <td>2949.352699</td>\n",
       "      <td>2819.3370</td>\n",
       "      <td>66.742</td>\n",
       "      <td>2756.6342</td>\n",
       "      <td>109.687</td>\n",
       "      <td>3.955427</td>\n",
       "      <td>0.010701</td>\n",
       "      <td>-3.531151e+07</td>\n",
       "    </tr>\n",
       "  </tbody>\n",
       "</table>\n",
       "</div>"
      ],
      "text/plain": [
       "               open     high      low    close     volume  us dollar index  \\\n",
       "date                                                                         \n",
       "2008-07-01  2799.20  2809.38  2690.18  2698.35  288515.85            72.34   \n",
       "2008-07-02  2702.63  2745.94  2670.06  2699.60  279163.65            71.99   \n",
       "2008-07-03  2654.48  2807.68  2617.26  2760.61  456603.05            72.73   \n",
       "2008-07-04  2751.21  2783.85  2716.02  2741.85  379050.10            72.71   \n",
       "2008-07-07  2747.61  2890.99  2747.61  2882.76  527320.24            72.71   \n",
       "\n",
       "            shibor        macd         cci      atr         boll        ema20  \\\n",
       "date                                                                            \n",
       "2008-07-01  2.5006 -213.078565 -128.949052  119.200  3173.475692  3033.748201   \n",
       "2008-07-02  2.7238 -213.732249 -139.719688   75.875  3140.413385  3001.924277   \n",
       "2008-07-03  2.5762 -206.941406 -112.113057  190.424  3109.044731  2978.942155   \n",
       "2008-07-04  2.5632 -200.759162  -81.997539   67.825  3073.107115  2956.362140   \n",
       "2008-07-07  2.5679 -182.386907   21.707767  149.133  3046.256923  2949.352699   \n",
       "\n",
       "                 ma10     mtm6        ma5    mtm12       roc       smi  \\\n",
       "date                                                                     \n",
       "2008-07-01  2851.2504  -91.594  2851.3262 -280.770 -9.424605 -0.097927   \n",
       "2008-07-02  2822.0828 -152.318  2797.3382 -252.645 -8.557733 -0.026497   \n",
       "2008-07-03  2820.8364 -208.925  2753.2792  -82.064 -2.886857 -0.031251   \n",
       "2008-07-04  2810.0548 -239.055  2738.4454 -249.421 -8.338289 -0.017237   \n",
       "2008-07-07  2819.3370   66.742  2756.6342  109.687  3.955427  0.010701   \n",
       "\n",
       "                    wvad  \n",
       "date                      \n",
       "2008-07-01 -8.726278e+07  \n",
       "2008-07-02 -1.095493e+08  \n",
       "2008-07-03 -5.855737e+07  \n",
       "2008-07-04 -7.467503e+07  \n",
       "2008-07-07 -3.531151e+07  "
      ]
     },
     "execution_count": 26,
     "metadata": {},
     "output_type": "execute_result"
    }
   ],
   "source": [
    "dict_dataframes_index['csi300 index data'][1].head()"
   ]
  },
  {
   "cell_type": "code",
   "execution_count": 27,
   "metadata": {},
   "outputs": [
    {
     "data": {
      "text/plain": [
       "612"
      ]
     },
     "execution_count": 27,
     "metadata": {},
     "output_type": "execute_result"
    }
   ],
   "source": [
    "len(dict_dataframes_index['csi300 index data'][1])"
   ]
  },
  {
   "cell_type": "code",
   "execution_count": 28,
   "metadata": {},
   "outputs": [
    {
     "data": {
      "text/plain": [
       "19"
      ]
     },
     "execution_count": 28,
     "metadata": {},
     "output_type": "execute_result"
    }
   ],
   "source": [
    "len(dict_dataframes_index['csi300 index data'][1].columns)"
   ]
  },
  {
   "cell_type": "code",
   "execution_count": 29,
   "metadata": {},
   "outputs": [
    {
     "data": {
      "text/plain": [
       "Timestamp('2008-07-01 00:00:00')"
      ]
     },
     "execution_count": 29,
     "metadata": {},
     "output_type": "execute_result"
    }
   ],
   "source": [
    "# train\n",
    "dict_dataframes_index['csi300 index data'][1].index[0]"
   ]
  },
  {
   "cell_type": "code",
   "execution_count": 31,
   "metadata": {},
   "outputs": [
    {
     "data": {
      "text/plain": [
       "Timestamp('2008-10-01 00:00:00')"
      ]
     },
     "execution_count": 31,
     "metadata": {},
     "output_type": "execute_result"
    }
   ],
   "source": [
    "# validate\n",
    "dict_dataframes_index['csi300 index data'][1].index[0] +monthdelta(3) "
   ]
  },
  {
   "cell_type": "code",
   "execution_count": 32,
   "metadata": {},
   "outputs": [
    {
     "data": {
      "text/plain": [
       "Timestamp('2009-01-01 00:00:00')"
      ]
     },
     "execution_count": 32,
     "metadata": {},
     "output_type": "execute_result"
    }
   ],
   "source": [
    "# test\n",
    "dict_dataframes_index['csi300 index data'][1].index[0] +monthdelta(6) "
   ]
  },
  {
   "cell_type": "code",
   "execution_count": null,
   "metadata": {},
   "outputs": [],
   "source": []
  }
 ],
 "metadata": {
  "kernelspec": {
   "display_name": "Python 3",
   "language": "python",
   "name": "python3"
  },
  "language_info": {
   "codemirror_mode": {
    "name": "ipython",
    "version": 3
   },
   "file_extension": ".py",
   "mimetype": "text/x-python",
   "name": "python",
   "nbconvert_exporter": "python",
   "pygments_lexer": "ipython3",
   "version": "3.6.6"
  }
 },
 "nbformat": 4,
 "nbformat_minor": 2
}
