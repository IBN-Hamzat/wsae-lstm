{
 "cells": [
  {
   "cell_type": "code",
   "execution_count": 3,
   "metadata": {},
   "outputs": [],
   "source": [
    "# Imports (External)\n",
    "import numpy as np\n",
    "import pandas as pd\n",
    "import datetime\n",
    "from datetime import datetime\n",
    "\n",
    "from monthdelta import monthdelta\n",
    "import xlrd\n",
    "import xlsxwriter\n",
    "from collections import OrderedDict\n",
    "import pickle\n",
    "\n",
    "import sys\n",
    "sys.path.append('../')  \n",
    "\n",
    "# Visualization/plotting imports\n",
    "import matplotlib as mpl\n",
    "import matplotlib.pyplot as plt\n",
    "\n",
    "# Machine learning imports\n",
    "import pywt\n",
    "from pywt import wavedec, waverec\n",
    "from scipy import signal\n",
    "from statsmodels.robust import mad\n",
    "\n",
    "import sklearn\n",
    "import tensorflow as tf\n",
    "import keras\n",
    "from keras.layers import Input, Dense\n",
    "from keras.models import Model, Sequential\n",
    "from keras import optimizers\n",
    "from keras import regularizers\n",
    "\n",
    "# Internal Imports\n",
    "from wsae_lstm.utils import pickle_load"
   ]
  },
  {
   "cell_type": "code",
   "execution_count": 4,
   "metadata": {},
   "outputs": [],
   "source": [
    "dict_dataframes_index=pickle_load(path_filename=\"../data/interim/clean_data_index_interval.pickle\")\n",
    "#dict_dataframes_index.keys()"
   ]
  },
  {
   "cell_type": "code",
   "execution_count": 5,
   "metadata": {},
   "outputs": [],
   "source": [
    "#dict_dataframes_index['csi300 index data'][1].drop(['date'],axis=1,inplace=True)"
   ]
  },
  {
   "cell_type": "code",
   "execution_count": 6,
   "metadata": {},
   "outputs": [],
   "source": [
    "#dict_dataframes_index['csi300 index data'][1].reset_index(drop=True,inplace=True)"
   ]
  },
  {
   "cell_type": "code",
   "execution_count": 7,
   "metadata": {
    "scrolled": true
   },
   "outputs": [
    {
     "data": {
      "text/html": [
       "<div>\n",
       "<style scoped>\n",
       "    .dataframe tbody tr th:only-of-type {\n",
       "        vertical-align: middle;\n",
       "    }\n",
       "\n",
       "    .dataframe tbody tr th {\n",
       "        vertical-align: top;\n",
       "    }\n",
       "\n",
       "    .dataframe thead th {\n",
       "        text-align: right;\n",
       "    }\n",
       "</style>\n",
       "<table border=\"1\" class=\"dataframe\">\n",
       "  <thead>\n",
       "    <tr style=\"text-align: right;\">\n",
       "      <th></th>\n",
       "      <th>open</th>\n",
       "      <th>high</th>\n",
       "      <th>low</th>\n",
       "      <th>close</th>\n",
       "      <th>volume</th>\n",
       "      <th>us dollar index</th>\n",
       "      <th>shibor</th>\n",
       "      <th>macd</th>\n",
       "      <th>cci</th>\n",
       "      <th>atr</th>\n",
       "      <th>boll</th>\n",
       "      <th>ema20</th>\n",
       "      <th>ma10</th>\n",
       "      <th>mtm6</th>\n",
       "      <th>ma5</th>\n",
       "      <th>mtm12</th>\n",
       "      <th>roc</th>\n",
       "      <th>smi</th>\n",
       "      <th>wvad</th>\n",
       "    </tr>\n",
       "    <tr>\n",
       "      <th>date</th>\n",
       "      <th></th>\n",
       "      <th></th>\n",
       "      <th></th>\n",
       "      <th></th>\n",
       "      <th></th>\n",
       "      <th></th>\n",
       "      <th></th>\n",
       "      <th></th>\n",
       "      <th></th>\n",
       "      <th></th>\n",
       "      <th></th>\n",
       "      <th></th>\n",
       "      <th></th>\n",
       "      <th></th>\n",
       "      <th></th>\n",
       "      <th></th>\n",
       "      <th></th>\n",
       "      <th></th>\n",
       "      <th></th>\n",
       "    </tr>\n",
       "  </thead>\n",
       "  <tbody>\n",
       "    <tr>\n",
       "      <th>2008-07-01</th>\n",
       "      <td>2799.20</td>\n",
       "      <td>2809.38</td>\n",
       "      <td>2690.18</td>\n",
       "      <td>2698.35</td>\n",
       "      <td>288515.85</td>\n",
       "      <td>72.34</td>\n",
       "      <td>2.5006</td>\n",
       "      <td>-213.078565</td>\n",
       "      <td>-128.949052</td>\n",
       "      <td>119.200</td>\n",
       "      <td>3173.475692</td>\n",
       "      <td>3033.748201</td>\n",
       "      <td>2851.2504</td>\n",
       "      <td>-91.594</td>\n",
       "      <td>2851.3262</td>\n",
       "      <td>-280.770</td>\n",
       "      <td>-9.424605</td>\n",
       "      <td>-0.097927</td>\n",
       "      <td>-8.726278e+07</td>\n",
       "    </tr>\n",
       "    <tr>\n",
       "      <th>2008-07-02</th>\n",
       "      <td>2702.63</td>\n",
       "      <td>2745.94</td>\n",
       "      <td>2670.06</td>\n",
       "      <td>2699.60</td>\n",
       "      <td>279163.65</td>\n",
       "      <td>71.99</td>\n",
       "      <td>2.7238</td>\n",
       "      <td>-213.732249</td>\n",
       "      <td>-139.719688</td>\n",
       "      <td>75.875</td>\n",
       "      <td>3140.413385</td>\n",
       "      <td>3001.924277</td>\n",
       "      <td>2822.0828</td>\n",
       "      <td>-152.318</td>\n",
       "      <td>2797.3382</td>\n",
       "      <td>-252.645</td>\n",
       "      <td>-8.557733</td>\n",
       "      <td>-0.026497</td>\n",
       "      <td>-1.095493e+08</td>\n",
       "    </tr>\n",
       "    <tr>\n",
       "      <th>2008-07-03</th>\n",
       "      <td>2654.48</td>\n",
       "      <td>2807.68</td>\n",
       "      <td>2617.26</td>\n",
       "      <td>2760.61</td>\n",
       "      <td>456603.05</td>\n",
       "      <td>72.73</td>\n",
       "      <td>2.5762</td>\n",
       "      <td>-206.941406</td>\n",
       "      <td>-112.113057</td>\n",
       "      <td>190.424</td>\n",
       "      <td>3109.044731</td>\n",
       "      <td>2978.942155</td>\n",
       "      <td>2820.8364</td>\n",
       "      <td>-208.925</td>\n",
       "      <td>2753.2792</td>\n",
       "      <td>-82.064</td>\n",
       "      <td>-2.886857</td>\n",
       "      <td>-0.031251</td>\n",
       "      <td>-5.855737e+07</td>\n",
       "    </tr>\n",
       "    <tr>\n",
       "      <th>2008-07-04</th>\n",
       "      <td>2751.21</td>\n",
       "      <td>2783.85</td>\n",
       "      <td>2716.02</td>\n",
       "      <td>2741.85</td>\n",
       "      <td>379050.10</td>\n",
       "      <td>72.71</td>\n",
       "      <td>2.5632</td>\n",
       "      <td>-200.759162</td>\n",
       "      <td>-81.997539</td>\n",
       "      <td>67.825</td>\n",
       "      <td>3073.107115</td>\n",
       "      <td>2956.362140</td>\n",
       "      <td>2810.0548</td>\n",
       "      <td>-239.055</td>\n",
       "      <td>2738.4454</td>\n",
       "      <td>-249.421</td>\n",
       "      <td>-8.338289</td>\n",
       "      <td>-0.017237</td>\n",
       "      <td>-7.467503e+07</td>\n",
       "    </tr>\n",
       "    <tr>\n",
       "      <th>2008-07-07</th>\n",
       "      <td>2747.61</td>\n",
       "      <td>2890.99</td>\n",
       "      <td>2747.61</td>\n",
       "      <td>2882.76</td>\n",
       "      <td>527320.24</td>\n",
       "      <td>72.71</td>\n",
       "      <td>2.5679</td>\n",
       "      <td>-182.386907</td>\n",
       "      <td>21.707767</td>\n",
       "      <td>149.133</td>\n",
       "      <td>3046.256923</td>\n",
       "      <td>2949.352699</td>\n",
       "      <td>2819.3370</td>\n",
       "      <td>66.742</td>\n",
       "      <td>2756.6342</td>\n",
       "      <td>109.687</td>\n",
       "      <td>3.955427</td>\n",
       "      <td>0.010701</td>\n",
       "      <td>-3.531151e+07</td>\n",
       "    </tr>\n",
       "  </tbody>\n",
       "</table>\n",
       "</div>"
      ],
      "text/plain": [
       "               open     high      low    close     volume  us dollar index  \\\n",
       "date                                                                         \n",
       "2008-07-01  2799.20  2809.38  2690.18  2698.35  288515.85            72.34   \n",
       "2008-07-02  2702.63  2745.94  2670.06  2699.60  279163.65            71.99   \n",
       "2008-07-03  2654.48  2807.68  2617.26  2760.61  456603.05            72.73   \n",
       "2008-07-04  2751.21  2783.85  2716.02  2741.85  379050.10            72.71   \n",
       "2008-07-07  2747.61  2890.99  2747.61  2882.76  527320.24            72.71   \n",
       "\n",
       "            shibor        macd         cci      atr         boll        ema20  \\\n",
       "date                                                                            \n",
       "2008-07-01  2.5006 -213.078565 -128.949052  119.200  3173.475692  3033.748201   \n",
       "2008-07-02  2.7238 -213.732249 -139.719688   75.875  3140.413385  3001.924277   \n",
       "2008-07-03  2.5762 -206.941406 -112.113057  190.424  3109.044731  2978.942155   \n",
       "2008-07-04  2.5632 -200.759162  -81.997539   67.825  3073.107115  2956.362140   \n",
       "2008-07-07  2.5679 -182.386907   21.707767  149.133  3046.256923  2949.352699   \n",
       "\n",
       "                 ma10     mtm6        ma5    mtm12       roc       smi  \\\n",
       "date                                                                     \n",
       "2008-07-01  2851.2504  -91.594  2851.3262 -280.770 -9.424605 -0.097927   \n",
       "2008-07-02  2822.0828 -152.318  2797.3382 -252.645 -8.557733 -0.026497   \n",
       "2008-07-03  2820.8364 -208.925  2753.2792  -82.064 -2.886857 -0.031251   \n",
       "2008-07-04  2810.0548 -239.055  2738.4454 -249.421 -8.338289 -0.017237   \n",
       "2008-07-07  2819.3370   66.742  2756.6342  109.687  3.955427  0.010701   \n",
       "\n",
       "                    wvad  \n",
       "date                      \n",
       "2008-07-01 -8.726278e+07  \n",
       "2008-07-02 -1.095493e+08  \n",
       "2008-07-03 -5.855737e+07  \n",
       "2008-07-04 -7.467503e+07  \n",
       "2008-07-07 -3.531151e+07  "
      ]
     },
     "execution_count": 7,
     "metadata": {},
     "output_type": "execute_result"
    }
   ],
   "source": [
    "dict_dataframes_index['csi300 index data'][1].head()"
   ]
  },
  {
   "cell_type": "code",
   "execution_count": 8,
   "metadata": {},
   "outputs": [
    {
     "data": {
      "text/html": [
       "<div>\n",
       "<style scoped>\n",
       "    .dataframe tbody tr th:only-of-type {\n",
       "        vertical-align: middle;\n",
       "    }\n",
       "\n",
       "    .dataframe tbody tr th {\n",
       "        vertical-align: top;\n",
       "    }\n",
       "\n",
       "    .dataframe thead th {\n",
       "        text-align: right;\n",
       "    }\n",
       "</style>\n",
       "<table border=\"1\" class=\"dataframe\">\n",
       "  <thead>\n",
       "    <tr style=\"text-align: right;\">\n",
       "      <th></th>\n",
       "      <th>open</th>\n",
       "      <th>high</th>\n",
       "      <th>low</th>\n",
       "      <th>close</th>\n",
       "      <th>volume</th>\n",
       "      <th>us dollar index</th>\n",
       "      <th>shibor</th>\n",
       "      <th>macd</th>\n",
       "      <th>cci</th>\n",
       "      <th>atr</th>\n",
       "      <th>boll</th>\n",
       "      <th>ema20</th>\n",
       "      <th>ma10</th>\n",
       "      <th>mtm6</th>\n",
       "      <th>ma5</th>\n",
       "      <th>mtm12</th>\n",
       "      <th>roc</th>\n",
       "      <th>smi</th>\n",
       "      <th>wvad</th>\n",
       "    </tr>\n",
       "    <tr>\n",
       "      <th>date</th>\n",
       "      <th></th>\n",
       "      <th></th>\n",
       "      <th></th>\n",
       "      <th></th>\n",
       "      <th></th>\n",
       "      <th></th>\n",
       "      <th></th>\n",
       "      <th></th>\n",
       "      <th></th>\n",
       "      <th></th>\n",
       "      <th></th>\n",
       "      <th></th>\n",
       "      <th></th>\n",
       "      <th></th>\n",
       "      <th></th>\n",
       "      <th></th>\n",
       "      <th></th>\n",
       "      <th></th>\n",
       "      <th></th>\n",
       "    </tr>\n",
       "  </thead>\n",
       "  <tbody>\n",
       "    <tr>\n",
       "      <th>2008-07-01</th>\n",
       "      <td>2799.20</td>\n",
       "      <td>2809.38</td>\n",
       "      <td>2690.18</td>\n",
       "      <td>2698.35</td>\n",
       "      <td>288515.85</td>\n",
       "      <td>72.34</td>\n",
       "      <td>2.5006</td>\n",
       "      <td>-213.078565</td>\n",
       "      <td>-128.949052</td>\n",
       "      <td>119.200</td>\n",
       "      <td>3173.475692</td>\n",
       "      <td>3033.748201</td>\n",
       "      <td>2851.2504</td>\n",
       "      <td>-91.594</td>\n",
       "      <td>2851.3262</td>\n",
       "      <td>-280.770</td>\n",
       "      <td>-9.424605</td>\n",
       "      <td>-0.097927</td>\n",
       "      <td>-8.726278e+07</td>\n",
       "    </tr>\n",
       "    <tr>\n",
       "      <th>2008-07-02</th>\n",
       "      <td>2702.63</td>\n",
       "      <td>2745.94</td>\n",
       "      <td>2670.06</td>\n",
       "      <td>2699.60</td>\n",
       "      <td>279163.65</td>\n",
       "      <td>71.99</td>\n",
       "      <td>2.7238</td>\n",
       "      <td>-213.732249</td>\n",
       "      <td>-139.719688</td>\n",
       "      <td>75.875</td>\n",
       "      <td>3140.413385</td>\n",
       "      <td>3001.924277</td>\n",
       "      <td>2822.0828</td>\n",
       "      <td>-152.318</td>\n",
       "      <td>2797.3382</td>\n",
       "      <td>-252.645</td>\n",
       "      <td>-8.557733</td>\n",
       "      <td>-0.026497</td>\n",
       "      <td>-1.095493e+08</td>\n",
       "    </tr>\n",
       "    <tr>\n",
       "      <th>2008-07-03</th>\n",
       "      <td>2654.48</td>\n",
       "      <td>2807.68</td>\n",
       "      <td>2617.26</td>\n",
       "      <td>2760.61</td>\n",
       "      <td>456603.05</td>\n",
       "      <td>72.73</td>\n",
       "      <td>2.5762</td>\n",
       "      <td>-206.941406</td>\n",
       "      <td>-112.113057</td>\n",
       "      <td>190.424</td>\n",
       "      <td>3109.044731</td>\n",
       "      <td>2978.942155</td>\n",
       "      <td>2820.8364</td>\n",
       "      <td>-208.925</td>\n",
       "      <td>2753.2792</td>\n",
       "      <td>-82.064</td>\n",
       "      <td>-2.886857</td>\n",
       "      <td>-0.031251</td>\n",
       "      <td>-5.855737e+07</td>\n",
       "    </tr>\n",
       "    <tr>\n",
       "      <th>2008-07-04</th>\n",
       "      <td>2751.21</td>\n",
       "      <td>2783.85</td>\n",
       "      <td>2716.02</td>\n",
       "      <td>2741.85</td>\n",
       "      <td>379050.10</td>\n",
       "      <td>72.71</td>\n",
       "      <td>2.5632</td>\n",
       "      <td>-200.759162</td>\n",
       "      <td>-81.997539</td>\n",
       "      <td>67.825</td>\n",
       "      <td>3073.107115</td>\n",
       "      <td>2956.362140</td>\n",
       "      <td>2810.0548</td>\n",
       "      <td>-239.055</td>\n",
       "      <td>2738.4454</td>\n",
       "      <td>-249.421</td>\n",
       "      <td>-8.338289</td>\n",
       "      <td>-0.017237</td>\n",
       "      <td>-7.467503e+07</td>\n",
       "    </tr>\n",
       "    <tr>\n",
       "      <th>2008-07-07</th>\n",
       "      <td>2747.61</td>\n",
       "      <td>2890.99</td>\n",
       "      <td>2747.61</td>\n",
       "      <td>2882.76</td>\n",
       "      <td>527320.24</td>\n",
       "      <td>72.71</td>\n",
       "      <td>2.5679</td>\n",
       "      <td>-182.386907</td>\n",
       "      <td>21.707767</td>\n",
       "      <td>149.133</td>\n",
       "      <td>3046.256923</td>\n",
       "      <td>2949.352699</td>\n",
       "      <td>2819.3370</td>\n",
       "      <td>66.742</td>\n",
       "      <td>2756.6342</td>\n",
       "      <td>109.687</td>\n",
       "      <td>3.955427</td>\n",
       "      <td>0.010701</td>\n",
       "      <td>-3.531151e+07</td>\n",
       "    </tr>\n",
       "  </tbody>\n",
       "</table>\n",
       "</div>"
      ],
      "text/plain": [
       "               open     high      low    close     volume  us dollar index  \\\n",
       "date                                                                         \n",
       "2008-07-01  2799.20  2809.38  2690.18  2698.35  288515.85            72.34   \n",
       "2008-07-02  2702.63  2745.94  2670.06  2699.60  279163.65            71.99   \n",
       "2008-07-03  2654.48  2807.68  2617.26  2760.61  456603.05            72.73   \n",
       "2008-07-04  2751.21  2783.85  2716.02  2741.85  379050.10            72.71   \n",
       "2008-07-07  2747.61  2890.99  2747.61  2882.76  527320.24            72.71   \n",
       "\n",
       "            shibor        macd         cci      atr         boll        ema20  \\\n",
       "date                                                                            \n",
       "2008-07-01  2.5006 -213.078565 -128.949052  119.200  3173.475692  3033.748201   \n",
       "2008-07-02  2.7238 -213.732249 -139.719688   75.875  3140.413385  3001.924277   \n",
       "2008-07-03  2.5762 -206.941406 -112.113057  190.424  3109.044731  2978.942155   \n",
       "2008-07-04  2.5632 -200.759162  -81.997539   67.825  3073.107115  2956.362140   \n",
       "2008-07-07  2.5679 -182.386907   21.707767  149.133  3046.256923  2949.352699   \n",
       "\n",
       "                 ma10     mtm6        ma5    mtm12       roc       smi  \\\n",
       "date                                                                     \n",
       "2008-07-01  2851.2504  -91.594  2851.3262 -280.770 -9.424605 -0.097927   \n",
       "2008-07-02  2822.0828 -152.318  2797.3382 -252.645 -8.557733 -0.026497   \n",
       "2008-07-03  2820.8364 -208.925  2753.2792  -82.064 -2.886857 -0.031251   \n",
       "2008-07-04  2810.0548 -239.055  2738.4454 -249.421 -8.338289 -0.017237   \n",
       "2008-07-07  2819.3370   66.742  2756.6342  109.687  3.955427  0.010701   \n",
       "\n",
       "                    wvad  \n",
       "date                      \n",
       "2008-07-01 -8.726278e+07  \n",
       "2008-07-02 -1.095493e+08  \n",
       "2008-07-03 -5.855737e+07  \n",
       "2008-07-04 -7.467503e+07  \n",
       "2008-07-07 -3.531151e+07  "
      ]
     },
     "execution_count": 8,
     "metadata": {},
     "output_type": "execute_result"
    }
   ],
   "source": [
    "dict_dataframes_index['csi300 index data'][1].head()"
   ]
  },
  {
   "cell_type": "code",
   "execution_count": 9,
   "metadata": {},
   "outputs": [
    {
     "data": {
      "text/plain": [
       "612"
      ]
     },
     "execution_count": 9,
     "metadata": {},
     "output_type": "execute_result"
    }
   ],
   "source": [
    "len(dict_dataframes_index['csi300 index data'][1])"
   ]
  },
  {
   "cell_type": "code",
   "execution_count": 10,
   "metadata": {},
   "outputs": [
    {
     "data": {
      "text/plain": [
       "19"
      ]
     },
     "execution_count": 10,
     "metadata": {},
     "output_type": "execute_result"
    }
   ],
   "source": [
    "len(dict_dataframes_index['csi300 index data'][1].columns)"
   ]
  },
  {
   "cell_type": "code",
   "execution_count": 11,
   "metadata": {},
   "outputs": [
    {
     "data": {
      "text/plain": [
       "24"
      ]
     },
     "execution_count": 11,
     "metadata": {},
     "output_type": "execute_result"
    }
   ],
   "source": [
    "len(dict_dataframes_index['csi300 index data'])"
   ]
  },
  {
   "cell_type": "code",
   "execution_count": 12,
   "metadata": {},
   "outputs": [
    {
     "data": {
      "text/plain": [
       "Timestamp('2008-07-01 00:00:00')"
      ]
     },
     "execution_count": 12,
     "metadata": {},
     "output_type": "execute_result"
    }
   ],
   "source": [
    "# train\n",
    "dict_dataframes_index['csi300 index data'][1].index[0]"
   ]
  },
  {
   "cell_type": "code",
   "execution_count": 13,
   "metadata": {},
   "outputs": [
    {
     "data": {
      "text/plain": [
       "Timestamp('2010-07-01 00:00:00')"
      ]
     },
     "execution_count": 13,
     "metadata": {},
     "output_type": "execute_result"
    }
   ],
   "source": [
    "# validate\n",
    "dict_dataframes_index['csi300 index data'][1].index[0] + monthdelta(24) "
   ]
  },
  {
   "cell_type": "code",
   "execution_count": 14,
   "metadata": {},
   "outputs": [
    {
     "data": {
      "text/plain": [
       "Timestamp('2010-10-01 00:00:00')"
      ]
     },
     "execution_count": 14,
     "metadata": {},
     "output_type": "execute_result"
    }
   ],
   "source": [
    "# test\n",
    "dict_dataframes_index['csi300 index data'][1].index[0] + monthdelta(27) "
   ]
  },
  {
   "cell_type": "code",
   "execution_count": null,
   "metadata": {},
   "outputs": [],
   "source": []
  },
  {
   "cell_type": "code",
   "execution_count": 165,
   "metadata": {},
   "outputs": [],
   "source": [
    "def tvt_split(df):\n",
    "    train = df.index[0]\n",
    "    validate = df.index[0] + monthdelta(24) \n",
    "    test = df.index[0] + monthdelta(27) \n",
    "    test_end = df.index[0] + monthdelta(30) \n",
    "\n",
    "#     print(\"Train start:\\n\",train)\n",
    "#     print(\"Train end/validate start:\\n\",validate)\n",
    "#     print(\"Validate end/test start:\\n\",test)\n",
    "#     print(\"Test end:\\n\",test_end)\n",
    "    \n",
    "    df_train = pd.DataFrame(df[(df.index >= train) & (df.index <= validate)])\n",
    "    df_validate = pd.DataFrame(df[(df.index >= validate) & (df.index <= test)])\n",
    "    df_test = pd.DataFrame(df[(df.index >= test) & (df.index <= test_end)])\n",
    "    return df_train,df_validate,df_test"
   ]
  },
  {
   "cell_type": "code",
   "execution_count": 166,
   "metadata": {
    "scrolled": true
   },
   "outputs": [],
   "source": [
    "#df_train,df_validate,df_test = tvt_split(dict_dataframes_index['csi300 index data'][1])"
   ]
  },
  {
   "cell_type": "code",
   "execution_count": 167,
   "metadata": {},
   "outputs": [],
   "source": [
    "def dict_df_tvt_split(df):\n",
    "    dict_dataframes = {}\n",
    "    split_count = 24\n",
    "    month_increment = 0\n",
    "    interval_index = 1\n",
    "    while split_count > 0:\n",
    "        df_train, df_validate, df_test = tvt_split(df[interval_index])\n",
    "        split_count -= 1\n",
    "        interval_index += 1\n",
    "        dict_dataframes[interval_index] = df_train, df_validate, df_test\n",
    "    return dict_dataframes"
   ]
  },
  {
   "cell_type": "code",
   "execution_count": 168,
   "metadata": {},
   "outputs": [],
   "source": [
    "dict_df_tvt = dict_df_tvt_split(dict_dataframes_index['csi300 index data'])"
   ]
  },
  {
   "cell_type": "code",
   "execution_count": 169,
   "metadata": {},
   "outputs": [
    {
     "data": {
      "text/plain": [
       "24"
      ]
     },
     "execution_count": 169,
     "metadata": {},
     "output_type": "execute_result"
    }
   ],
   "source": [
    "len(dict_df_tvt)"
   ]
  },
  {
   "cell_type": "code",
   "execution_count": 209,
   "metadata": {},
   "outputs": [
    {
     "name": "stdout",
     "output_type": "stream",
     "text": [
      "csi300 index data\n",
      "nifty 50 index data\n",
      "hangseng index data\n",
      "nikkei 225 index data\n",
      "s&p500 index data\n",
      "djia index data\n"
     ]
    }
   ],
   "source": [
    "dict_dataframes = {}\n",
    "for key in dict_dataframes_index:\n",
    "    print(key)\n",
    "    dict_dataframes[key] = dict_df_tvt_split(dict_dataframes_index[key])"
   ]
  },
  {
   "cell_type": "code",
   "execution_count": 210,
   "metadata": {},
   "outputs": [
    {
     "data": {
      "text/plain": [
       "6"
      ]
     },
     "execution_count": 210,
     "metadata": {},
     "output_type": "execute_result"
    }
   ],
   "source": [
    "len(dict_dataframes)"
   ]
  },
  {
   "cell_type": "code",
   "execution_count": 211,
   "metadata": {},
   "outputs": [
    {
     "data": {
      "text/plain": [
       "24"
      ]
     },
     "execution_count": 211,
     "metadata": {},
     "output_type": "execute_result"
    }
   ],
   "source": [
    "len(dict_dataframes['csi300 index data'])"
   ]
  },
  {
   "cell_type": "code",
   "execution_count": 212,
   "metadata": {},
   "outputs": [
    {
     "data": {
      "text/plain": [
       "dict"
      ]
     },
     "execution_count": 212,
     "metadata": {},
     "output_type": "execute_result"
    }
   ],
   "source": [
    "type(dict_dataframes['csi300 index data'])"
   ]
  },
  {
   "cell_type": "code",
   "execution_count": 213,
   "metadata": {},
   "outputs": [
    {
     "data": {
      "text/plain": [
       "dict_keys([2, 3, 4, 5, 6, 7, 8, 9, 10, 11, 12, 13, 14, 15, 16, 17, 18, 19, 20, 21, 22, 23, 24, 25])"
      ]
     },
     "execution_count": 213,
     "metadata": {},
     "output_type": "execute_result"
    }
   ],
   "source": [
    "dict_dataframes['csi300 index data'].keys()"
   ]
  },
  {
   "cell_type": "code",
   "execution_count": null,
   "metadata": {},
   "outputs": [],
   "source": [
    "dict_dataframes['csi300 index data'] = {k-1: v for k, v in dict_dataframes['csi300 index data'].items()}"
   ]
  },
  {
   "cell_type": "code",
   "execution_count": 217,
   "metadata": {},
   "outputs": [
    {
     "data": {
      "text/plain": [
       "dict_keys([1, 2, 3, 4, 5, 6, 7, 8, 9, 10, 11, 12, 13, 14, 15, 16, 17, 18, 19, 20, 21, 22, 23, 24])"
      ]
     },
     "execution_count": 217,
     "metadata": {},
     "output_type": "execute_result"
    }
   ],
   "source": [
    "dict_dataframes['csi300 index data'].keys()"
   ]
  },
  {
   "cell_type": "code",
   "execution_count": 226,
   "metadata": {},
   "outputs": [
    {
     "data": {
      "text/plain": [
       "63"
      ]
     },
     "execution_count": 226,
     "metadata": {},
     "output_type": "execute_result"
    }
   ],
   "source": [
    "len(dict_dataframes['csi300 index data'][1][1])"
   ]
  },
  {
   "cell_type": "code",
   "execution_count": 232,
   "metadata": {},
   "outputs": [
    {
     "data": {
      "text/html": [
       "<div>\n",
       "<style scoped>\n",
       "    .dataframe tbody tr th:only-of-type {\n",
       "        vertical-align: middle;\n",
       "    }\n",
       "\n",
       "    .dataframe tbody tr th {\n",
       "        vertical-align: top;\n",
       "    }\n",
       "\n",
       "    .dataframe thead th {\n",
       "        text-align: right;\n",
       "    }\n",
       "</style>\n",
       "<table border=\"1\" class=\"dataframe\">\n",
       "  <thead>\n",
       "    <tr style=\"text-align: right;\">\n",
       "      <th></th>\n",
       "      <th>open</th>\n",
       "      <th>high</th>\n",
       "      <th>low</th>\n",
       "      <th>close</th>\n",
       "      <th>volume</th>\n",
       "      <th>us dollar index</th>\n",
       "      <th>shibor</th>\n",
       "      <th>macd</th>\n",
       "      <th>cci</th>\n",
       "      <th>atr</th>\n",
       "      <th>boll</th>\n",
       "      <th>ema20</th>\n",
       "      <th>ma10</th>\n",
       "      <th>mtm6</th>\n",
       "      <th>ma5</th>\n",
       "      <th>mtm12</th>\n",
       "      <th>roc</th>\n",
       "      <th>smi</th>\n",
       "      <th>wvad</th>\n",
       "    </tr>\n",
       "    <tr>\n",
       "      <th>date</th>\n",
       "      <th></th>\n",
       "      <th></th>\n",
       "      <th></th>\n",
       "      <th></th>\n",
       "      <th></th>\n",
       "      <th></th>\n",
       "      <th></th>\n",
       "      <th></th>\n",
       "      <th></th>\n",
       "      <th></th>\n",
       "      <th></th>\n",
       "      <th></th>\n",
       "      <th></th>\n",
       "      <th></th>\n",
       "      <th></th>\n",
       "      <th></th>\n",
       "      <th></th>\n",
       "      <th></th>\n",
       "      <th></th>\n",
       "    </tr>\n",
       "  </thead>\n",
       "  <tbody>\n",
       "    <tr>\n",
       "      <th>2008-07-01</th>\n",
       "      <td>2799.2</td>\n",
       "      <td>2809.38</td>\n",
       "      <td>2690.18</td>\n",
       "      <td>2698.35</td>\n",
       "      <td>288515.85</td>\n",
       "      <td>72.34</td>\n",
       "      <td>2.5006</td>\n",
       "      <td>-213.078565</td>\n",
       "      <td>-128.949052</td>\n",
       "      <td>119.2</td>\n",
       "      <td>3173.475692</td>\n",
       "      <td>3033.748201</td>\n",
       "      <td>2851.2504</td>\n",
       "      <td>-91.594</td>\n",
       "      <td>2851.3262</td>\n",
       "      <td>-280.77</td>\n",
       "      <td>-9.424605</td>\n",
       "      <td>-0.097927</td>\n",
       "      <td>-8.726278e+07</td>\n",
       "    </tr>\n",
       "  </tbody>\n",
       "</table>\n",
       "</div>"
      ],
      "text/plain": [
       "              open     high      low    close     volume  us dollar index  \\\n",
       "date                                                                        \n",
       "2008-07-01  2799.2  2809.38  2690.18  2698.35  288515.85            72.34   \n",
       "\n",
       "            shibor        macd         cci    atr         boll        ema20  \\\n",
       "date                                                                          \n",
       "2008-07-01  2.5006 -213.078565 -128.949052  119.2  3173.475692  3033.748201   \n",
       "\n",
       "                 ma10    mtm6        ma5   mtm12       roc       smi  \\\n",
       "date                                                                   \n",
       "2008-07-01  2851.2504 -91.594  2851.3262 -280.77 -9.424605 -0.097927   \n",
       "\n",
       "                    wvad  \n",
       "date                      \n",
       "2008-07-01 -8.726278e+07  "
      ]
     },
     "execution_count": 232,
     "metadata": {},
     "output_type": "execute_result"
    }
   ],
   "source": [
    "dict_dataframes['csi300 index data'][1][0].head(1)"
   ]
  },
  {
   "cell_type": "code",
   "execution_count": null,
   "metadata": {},
   "outputs": [],
   "source": [
    "dict_dataframes['csi300 index data'][1][1].head(1)"
   ]
  },
  {
   "cell_type": "code",
   "execution_count": 233,
   "metadata": {},
   "outputs": [
    {
     "data": {
      "text/html": [
       "<div>\n",
       "<style scoped>\n",
       "    .dataframe tbody tr th:only-of-type {\n",
       "        vertical-align: middle;\n",
       "    }\n",
       "\n",
       "    .dataframe tbody tr th {\n",
       "        vertical-align: top;\n",
       "    }\n",
       "\n",
       "    .dataframe thead th {\n",
       "        text-align: right;\n",
       "    }\n",
       "</style>\n",
       "<table border=\"1\" class=\"dataframe\">\n",
       "  <thead>\n",
       "    <tr style=\"text-align: right;\">\n",
       "      <th></th>\n",
       "      <th>open</th>\n",
       "      <th>high</th>\n",
       "      <th>low</th>\n",
       "      <th>close</th>\n",
       "      <th>volume</th>\n",
       "      <th>us dollar index</th>\n",
       "      <th>shibor</th>\n",
       "      <th>macd</th>\n",
       "      <th>cci</th>\n",
       "      <th>atr</th>\n",
       "      <th>boll</th>\n",
       "      <th>ema20</th>\n",
       "      <th>ma10</th>\n",
       "      <th>mtm6</th>\n",
       "      <th>ma5</th>\n",
       "      <th>mtm12</th>\n",
       "      <th>roc</th>\n",
       "      <th>smi</th>\n",
       "      <th>wvad</th>\n",
       "    </tr>\n",
       "    <tr>\n",
       "      <th>date</th>\n",
       "      <th></th>\n",
       "      <th></th>\n",
       "      <th></th>\n",
       "      <th></th>\n",
       "      <th></th>\n",
       "      <th></th>\n",
       "      <th></th>\n",
       "      <th></th>\n",
       "      <th></th>\n",
       "      <th></th>\n",
       "      <th></th>\n",
       "      <th></th>\n",
       "      <th></th>\n",
       "      <th></th>\n",
       "      <th></th>\n",
       "      <th></th>\n",
       "      <th></th>\n",
       "      <th></th>\n",
       "      <th></th>\n",
       "    </tr>\n",
       "  </thead>\n",
       "  <tbody>\n",
       "    <tr>\n",
       "      <th>2010-10-08</th>\n",
       "      <td>2965.65</td>\n",
       "      <td>3055.84</td>\n",
       "      <td>2963.24</td>\n",
       "      <td>3044.23</td>\n",
       "      <td>999947.2</td>\n",
       "      <td>77.2</td>\n",
       "      <td>1.7325</td>\n",
       "      <td>14.071181</td>\n",
       "      <td>187.594016</td>\n",
       "      <td>120.262</td>\n",
       "      <td>2912.040962</td>\n",
       "      <td>2913.539251</td>\n",
       "      <td>2898.0211</td>\n",
       "      <td>194.405</td>\n",
       "      <td>2928.111</td>\n",
       "      <td>111.679</td>\n",
       "      <td>3.80825</td>\n",
       "      <td>0.043045</td>\n",
       "      <td>1.079573e+08</td>\n",
       "    </tr>\n",
       "  </tbody>\n",
       "</table>\n",
       "</div>"
      ],
      "text/plain": [
       "               open     high      low    close    volume  us dollar index  \\\n",
       "date                                                                        \n",
       "2010-10-08  2965.65  3055.84  2963.24  3044.23  999947.2             77.2   \n",
       "\n",
       "            shibor       macd         cci      atr         boll        ema20  \\\n",
       "date                                                                           \n",
       "2010-10-08  1.7325  14.071181  187.594016  120.262  2912.040962  2913.539251   \n",
       "\n",
       "                 ma10     mtm6       ma5    mtm12      roc       smi  \\\n",
       "date                                                                   \n",
       "2010-10-08  2898.0211  194.405  2928.111  111.679  3.80825  0.043045   \n",
       "\n",
       "                    wvad  \n",
       "date                      \n",
       "2010-10-08  1.079573e+08  "
      ]
     },
     "execution_count": 233,
     "metadata": {},
     "output_type": "execute_result"
    }
   ],
   "source": [
    "dict_dataframes['csi300 index data'][1][2].head(1)"
   ]
  },
  {
   "cell_type": "code",
   "execution_count": 145,
   "metadata": {},
   "outputs": [],
   "source": [
    "# def dict_df_tvt_split_test(dict_dataframes):\n",
    "#     subdict_dataframes = {}\n",
    "#     split_count = 24\n",
    "#     interval_index = 1\n",
    "#     for dataframe in dict_dataframes:\n",
    "#         subdict_dataframes[dataframe][interval_index] = dict_tvt_split(dict_dataframes[dataframe])\n",
    "#         interval_index += 1\n",
    "#     return subdict_dataframes"
   ]
  },
  {
   "cell_type": "code",
   "execution_count": null,
   "metadata": {
    "scrolled": true
   },
   "outputs": [],
   "source": []
  },
  {
   "cell_type": "code",
   "execution_count": null,
   "metadata": {},
   "outputs": [],
   "source": []
  },
  {
   "cell_type": "code",
   "execution_count": 53,
   "metadata": {},
   "outputs": [
    {
     "data": {
      "text/html": [
       "<div>\n",
       "<style scoped>\n",
       "    .dataframe tbody tr th:only-of-type {\n",
       "        vertical-align: middle;\n",
       "    }\n",
       "\n",
       "    .dataframe tbody tr th {\n",
       "        vertical-align: top;\n",
       "    }\n",
       "\n",
       "    .dataframe thead th {\n",
       "        text-align: right;\n",
       "    }\n",
       "</style>\n",
       "<table border=\"1\" class=\"dataframe\">\n",
       "  <thead>\n",
       "    <tr style=\"text-align: right;\">\n",
       "      <th></th>\n",
       "      <th>open</th>\n",
       "      <th>high</th>\n",
       "      <th>low</th>\n",
       "      <th>close</th>\n",
       "      <th>volume</th>\n",
       "      <th>us dollar index</th>\n",
       "      <th>shibor</th>\n",
       "      <th>macd</th>\n",
       "      <th>cci</th>\n",
       "      <th>atr</th>\n",
       "      <th>boll</th>\n",
       "      <th>ema20</th>\n",
       "      <th>ma10</th>\n",
       "      <th>mtm6</th>\n",
       "      <th>ma5</th>\n",
       "      <th>mtm12</th>\n",
       "      <th>roc</th>\n",
       "      <th>smi</th>\n",
       "      <th>wvad</th>\n",
       "    </tr>\n",
       "    <tr>\n",
       "      <th>date</th>\n",
       "      <th></th>\n",
       "      <th></th>\n",
       "      <th></th>\n",
       "      <th></th>\n",
       "      <th></th>\n",
       "      <th></th>\n",
       "      <th></th>\n",
       "      <th></th>\n",
       "      <th></th>\n",
       "      <th></th>\n",
       "      <th></th>\n",
       "      <th></th>\n",
       "      <th></th>\n",
       "      <th></th>\n",
       "      <th></th>\n",
       "      <th></th>\n",
       "      <th></th>\n",
       "      <th></th>\n",
       "      <th></th>\n",
       "    </tr>\n",
       "  </thead>\n",
       "  <tbody>\n",
       "    <tr>\n",
       "      <th>2014-04-01</th>\n",
       "      <td>2143.72</td>\n",
       "      <td>2170.10</td>\n",
       "      <td>2141.15</td>\n",
       "      <td>2163.12</td>\n",
       "      <td>488664.03</td>\n",
       "      <td>80.08</td>\n",
       "      <td>2.866</td>\n",
       "      <td>-11.448999</td>\n",
       "      <td>45.062472</td>\n",
       "      <td>28.944</td>\n",
       "      <td>2150.219000</td>\n",
       "      <td>2158.446226</td>\n",
       "      <td>2150.5768</td>\n",
       "      <td>-13.439</td>\n",
       "      <td>2157.6278</td>\n",
       "      <td>40.279</td>\n",
       "      <td>1.897415</td>\n",
       "      <td>0.019530</td>\n",
       "      <td>7.622596e+07</td>\n",
       "    </tr>\n",
       "    <tr>\n",
       "      <th>2014-04-02</th>\n",
       "      <td>2166.07</td>\n",
       "      <td>2182.68</td>\n",
       "      <td>2164.01</td>\n",
       "      <td>2180.73</td>\n",
       "      <td>650392.57</td>\n",
       "      <td>80.23</td>\n",
       "      <td>2.950</td>\n",
       "      <td>-8.435674</td>\n",
       "      <td>93.409788</td>\n",
       "      <td>19.568</td>\n",
       "      <td>2151.096615</td>\n",
       "      <td>2160.568204</td>\n",
       "      <td>2156.5625</td>\n",
       "      <td>6.287</td>\n",
       "      <td>2159.5638</td>\n",
       "      <td>37.689</td>\n",
       "      <td>1.758672</td>\n",
       "      <td>0.042995</td>\n",
       "      <td>1.775670e+08</td>\n",
       "    </tr>\n",
       "  </tbody>\n",
       "</table>\n",
       "</div>"
      ],
      "text/plain": [
       "               open     high      low    close     volume  us dollar index  \\\n",
       "date                                                                         \n",
       "2014-04-01  2143.72  2170.10  2141.15  2163.12  488664.03            80.08   \n",
       "2014-04-02  2166.07  2182.68  2164.01  2180.73  650392.57            80.23   \n",
       "\n",
       "            shibor       macd        cci     atr         boll        ema20  \\\n",
       "date                                                                         \n",
       "2014-04-01   2.866 -11.448999  45.062472  28.944  2150.219000  2158.446226   \n",
       "2014-04-02   2.950  -8.435674  93.409788  19.568  2151.096615  2160.568204   \n",
       "\n",
       "                 ma10    mtm6        ma5   mtm12       roc       smi  \\\n",
       "date                                                                   \n",
       "2014-04-01  2150.5768 -13.439  2157.6278  40.279  1.897415  0.019530   \n",
       "2014-04-02  2156.5625   6.287  2159.5638  37.689  1.758672  0.042995   \n",
       "\n",
       "                    wvad  \n",
       "date                      \n",
       "2014-04-01  7.622596e+07  \n",
       "2014-04-02  1.775670e+08  "
      ]
     },
     "execution_count": 53,
     "metadata": {},
     "output_type": "execute_result"
    }
   ],
   "source": [
    "#train.head(2)"
   ]
  },
  {
   "cell_type": "code",
   "execution_count": 54,
   "metadata": {},
   "outputs": [
    {
     "data": {
      "text/html": [
       "<div>\n",
       "<style scoped>\n",
       "    .dataframe tbody tr th:only-of-type {\n",
       "        vertical-align: middle;\n",
       "    }\n",
       "\n",
       "    .dataframe tbody tr th {\n",
       "        vertical-align: top;\n",
       "    }\n",
       "\n",
       "    .dataframe thead th {\n",
       "        text-align: right;\n",
       "    }\n",
       "</style>\n",
       "<table border=\"1\" class=\"dataframe\">\n",
       "  <thead>\n",
       "    <tr style=\"text-align: right;\">\n",
       "      <th></th>\n",
       "      <th>open</th>\n",
       "      <th>high</th>\n",
       "      <th>low</th>\n",
       "      <th>close</th>\n",
       "      <th>volume</th>\n",
       "      <th>us dollar index</th>\n",
       "      <th>shibor</th>\n",
       "      <th>macd</th>\n",
       "      <th>cci</th>\n",
       "      <th>atr</th>\n",
       "      <th>boll</th>\n",
       "      <th>ema20</th>\n",
       "      <th>ma10</th>\n",
       "      <th>mtm6</th>\n",
       "      <th>ma5</th>\n",
       "      <th>mtm12</th>\n",
       "      <th>roc</th>\n",
       "      <th>smi</th>\n",
       "      <th>wvad</th>\n",
       "    </tr>\n",
       "    <tr>\n",
       "      <th>date</th>\n",
       "      <th></th>\n",
       "      <th></th>\n",
       "      <th></th>\n",
       "      <th></th>\n",
       "      <th></th>\n",
       "      <th></th>\n",
       "      <th></th>\n",
       "      <th></th>\n",
       "      <th></th>\n",
       "      <th></th>\n",
       "      <th></th>\n",
       "      <th></th>\n",
       "      <th></th>\n",
       "      <th></th>\n",
       "      <th></th>\n",
       "      <th></th>\n",
       "      <th></th>\n",
       "      <th></th>\n",
       "      <th></th>\n",
       "    </tr>\n",
       "  </thead>\n",
       "  <tbody>\n",
       "    <tr>\n",
       "      <th>2016-04-01</th>\n",
       "      <td>3213.67</td>\n",
       "      <td>3222.61</td>\n",
       "      <td>3165.86</td>\n",
       "      <td>3221.90</td>\n",
       "      <td>1181221.39</td>\n",
       "      <td>94.5626</td>\n",
       "      <td>2.014</td>\n",
       "      <td>35.386273</td>\n",
       "      <td>40.950404</td>\n",
       "      <td>56.7569</td>\n",
       "      <td>3109.797608</td>\n",
       "      <td>3154.620636</td>\n",
       "      <td>3205.23836</td>\n",
       "      <td>40.0441</td>\n",
       "      <td>3192.27922</td>\n",
       "      <td>131.8620</td>\n",
       "      <td>4.267333</td>\n",
       "      <td>-0.008476</td>\n",
       "      <td>8.859940e+08</td>\n",
       "    </tr>\n",
       "    <tr>\n",
       "      <th>2016-04-05</th>\n",
       "      <td>3211.31</td>\n",
       "      <td>3271.93</td>\n",
       "      <td>3205.21</td>\n",
       "      <td>3264.49</td>\n",
       "      <td>1460477.72</td>\n",
       "      <td>94.6133</td>\n",
       "      <td>1.993</td>\n",
       "      <td>39.489875</td>\n",
       "      <td>108.008262</td>\n",
       "      <td>66.7236</td>\n",
       "      <td>3121.968962</td>\n",
       "      <td>3165.083985</td>\n",
       "      <td>3206.74322</td>\n",
       "      <td>66.6689</td>\n",
       "      <td>3211.23072</td>\n",
       "      <td>140.2819</td>\n",
       "      <td>4.490165</td>\n",
       "      <td>0.011853</td>\n",
       "      <td>9.366479e+08</td>\n",
       "    </tr>\n",
       "  </tbody>\n",
       "</table>\n",
       "</div>"
      ],
      "text/plain": [
       "               open     high      low    close      volume  us dollar index  \\\n",
       "date                                                                          \n",
       "2016-04-01  3213.67  3222.61  3165.86  3221.90  1181221.39          94.5626   \n",
       "2016-04-05  3211.31  3271.93  3205.21  3264.49  1460477.72          94.6133   \n",
       "\n",
       "            shibor       macd         cci      atr         boll        ema20  \\\n",
       "date                                                                           \n",
       "2016-04-01   2.014  35.386273   40.950404  56.7569  3109.797608  3154.620636   \n",
       "2016-04-05   1.993  39.489875  108.008262  66.7236  3121.968962  3165.083985   \n",
       "\n",
       "                  ma10     mtm6         ma5     mtm12       roc       smi  \\\n",
       "date                                                                        \n",
       "2016-04-01  3205.23836  40.0441  3192.27922  131.8620  4.267333 -0.008476   \n",
       "2016-04-05  3206.74322  66.6689  3211.23072  140.2819  4.490165  0.011853   \n",
       "\n",
       "                    wvad  \n",
       "date                      \n",
       "2016-04-01  8.859940e+08  \n",
       "2016-04-05  9.366479e+08  "
      ]
     },
     "execution_count": 54,
     "metadata": {},
     "output_type": "execute_result"
    }
   ],
   "source": [
    "#validate.head(2)"
   ]
  },
  {
   "cell_type": "code",
   "execution_count": 55,
   "metadata": {},
   "outputs": [
    {
     "data": {
      "text/html": [
       "<div>\n",
       "<style scoped>\n",
       "    .dataframe tbody tr th:only-of-type {\n",
       "        vertical-align: middle;\n",
       "    }\n",
       "\n",
       "    .dataframe tbody tr th {\n",
       "        vertical-align: top;\n",
       "    }\n",
       "\n",
       "    .dataframe thead th {\n",
       "        text-align: right;\n",
       "    }\n",
       "</style>\n",
       "<table border=\"1\" class=\"dataframe\">\n",
       "  <thead>\n",
       "    <tr style=\"text-align: right;\">\n",
       "      <th></th>\n",
       "      <th>open</th>\n",
       "      <th>high</th>\n",
       "      <th>low</th>\n",
       "      <th>close</th>\n",
       "      <th>volume</th>\n",
       "      <th>us dollar index</th>\n",
       "      <th>shibor</th>\n",
       "      <th>macd</th>\n",
       "      <th>cci</th>\n",
       "      <th>atr</th>\n",
       "      <th>boll</th>\n",
       "      <th>ema20</th>\n",
       "      <th>ma10</th>\n",
       "      <th>mtm6</th>\n",
       "      <th>ma5</th>\n",
       "      <th>mtm12</th>\n",
       "      <th>roc</th>\n",
       "      <th>smi</th>\n",
       "      <th>wvad</th>\n",
       "    </tr>\n",
       "    <tr>\n",
       "      <th>date</th>\n",
       "      <th></th>\n",
       "      <th></th>\n",
       "      <th></th>\n",
       "      <th></th>\n",
       "      <th></th>\n",
       "      <th></th>\n",
       "      <th></th>\n",
       "      <th></th>\n",
       "      <th></th>\n",
       "      <th></th>\n",
       "      <th></th>\n",
       "      <th></th>\n",
       "      <th></th>\n",
       "      <th></th>\n",
       "      <th></th>\n",
       "      <th></th>\n",
       "      <th></th>\n",
       "      <th></th>\n",
       "      <th></th>\n",
       "    </tr>\n",
       "  </thead>\n",
       "  <tbody>\n",
       "    <tr>\n",
       "      <th>2016-07-01</th>\n",
       "      <td>3156.93</td>\n",
       "      <td>3170.26</td>\n",
       "      <td>3148.30</td>\n",
       "      <td>3154.2</td>\n",
       "      <td>717462.83</td>\n",
       "      <td>95.6655</td>\n",
       "      <td>2.027</td>\n",
       "      <td>5.204202</td>\n",
       "      <td>141.961406</td>\n",
       "      <td>21.9635</td>\n",
       "      <td>3122.562035</td>\n",
       "      <td>3126.451547</td>\n",
       "      <td>3126.38819</td>\n",
       "      <td>36.8835</td>\n",
       "      <td>3143.29134</td>\n",
       "      <td>37.8321</td>\n",
       "      <td>1.213980</td>\n",
       "      <td>0.013165</td>\n",
       "      <td>3.038717e+08</td>\n",
       "    </tr>\n",
       "    <tr>\n",
       "      <th>2016-07-04</th>\n",
       "      <td>3136.39</td>\n",
       "      <td>3210.60</td>\n",
       "      <td>3134.02</td>\n",
       "      <td>3204.7</td>\n",
       "      <td>1333105.29</td>\n",
       "      <td>95.5253</td>\n",
       "      <td>2.014</td>\n",
       "      <td>10.705219</td>\n",
       "      <td>180.887755</td>\n",
       "      <td>76.5783</td>\n",
       "      <td>3128.157046</td>\n",
       "      <td>3133.903419</td>\n",
       "      <td>3135.59037</td>\n",
       "      <td>127.5408</td>\n",
       "      <td>3160.12172</td>\n",
       "      <td>110.0214</td>\n",
       "      <td>3.555185</td>\n",
       "      <td>0.030698</td>\n",
       "      <td>4.150349e+08</td>\n",
       "    </tr>\n",
       "  </tbody>\n",
       "</table>\n",
       "</div>"
      ],
      "text/plain": [
       "               open     high      low   close      volume  us dollar index  \\\n",
       "date                                                                         \n",
       "2016-07-01  3156.93  3170.26  3148.30  3154.2   717462.83          95.6655   \n",
       "2016-07-04  3136.39  3210.60  3134.02  3204.7  1333105.29          95.5253   \n",
       "\n",
       "            shibor       macd         cci      atr         boll        ema20  \\\n",
       "date                                                                           \n",
       "2016-07-01   2.027   5.204202  141.961406  21.9635  3122.562035  3126.451547   \n",
       "2016-07-04   2.014  10.705219  180.887755  76.5783  3128.157046  3133.903419   \n",
       "\n",
       "                  ma10      mtm6         ma5     mtm12       roc       smi  \\\n",
       "date                                                                         \n",
       "2016-07-01  3126.38819   36.8835  3143.29134   37.8321  1.213980  0.013165   \n",
       "2016-07-04  3135.59037  127.5408  3160.12172  110.0214  3.555185  0.030698   \n",
       "\n",
       "                    wvad  \n",
       "date                      \n",
       "2016-07-01  3.038717e+08  \n",
       "2016-07-04  4.150349e+08  "
      ]
     },
     "execution_count": 55,
     "metadata": {},
     "output_type": "execute_result"
    }
   ],
   "source": [
    "#test.head(2)"
   ]
  },
  {
   "cell_type": "code",
   "execution_count": null,
   "metadata": {},
   "outputs": [],
   "source": []
  },
  {
   "cell_type": "code",
   "execution_count": null,
   "metadata": {},
   "outputs": [],
   "source": []
  }
 ],
 "metadata": {
  "kernelspec": {
   "display_name": "Python 3",
   "language": "python",
   "name": "python3"
  },
  "language_info": {
   "codemirror_mode": {
    "name": "ipython",
    "version": 3
   },
   "file_extension": ".py",
   "mimetype": "text/x-python",
   "name": "python",
   "nbconvert_exporter": "python",
   "pygments_lexer": "ipython3",
   "version": "3.6.6"
  }
 },
 "nbformat": 4,
 "nbformat_minor": 2
}
