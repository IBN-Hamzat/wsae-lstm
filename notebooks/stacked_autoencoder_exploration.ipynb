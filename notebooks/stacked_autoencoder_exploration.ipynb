{
 "cells": [
  {
   "cell_type": "code",
   "execution_count": 83,
   "metadata": {},
   "outputs": [],
   "source": [
    "# Imports (External)\n",
    "import numpy as np\n",
    "import pandas as pd\n",
    "import datetime\n",
    "from datetime import datetime\n",
    "\n",
    "from monthdelta import monthdelta\n",
    "import xlrd\n",
    "import xlsxwriter\n",
    "from collections import OrderedDict\n",
    "import pickle\n",
    "\n",
    "import sys\n",
    "sys.path.append('../')  \n",
    "\n",
    "# Visualization/plotting imports\n",
    "import matplotlib as mpl\n",
    "import matplotlib.pyplot as plt\n",
    "\n",
    "# Machine learning imports\n",
    "import pywt\n",
    "from pywt import wavedec, waverec\n",
    "from scipy import signal\n",
    "from statsmodels.robust import mad\n",
    "\n",
    "import sklearn\n",
    "import tensorflow as tf\n",
    "import keras\n",
    "from keras.layers import Input, Dense\n",
    "from keras.models import Model, Sequential\n",
    "from keras import optimizers\n",
    "from keras import regularizers\n",
    "\n",
    "# Internal Imports\n",
    "from wsae_lstm.utils import pickle_load"
   ]
  },
  {
   "cell_type": "code",
   "execution_count": 84,
   "metadata": {},
   "outputs": [],
   "source": [
    "dict_dataframes_index=pickle_load(path_filename=\"../data/pickled/clean_data_index_interval\")\n",
    "#dict_dataframes_index.keys()"
   ]
  },
  {
   "cell_type": "code",
   "execution_count": 85,
   "metadata": {},
   "outputs": [],
   "source": [
    "dict_dataframes_index['csi300 index data'][1].drop(['date'],axis=1,inplace=True)"
   ]
  },
  {
   "cell_type": "code",
   "execution_count": 86,
   "metadata": {},
   "outputs": [
    {
     "data": {
      "text/plain": [
       "19"
      ]
     },
     "execution_count": 86,
     "metadata": {},
     "output_type": "execute_result"
    }
   ],
   "source": [
    "len(dict_dataframes_index['csi300 index data'][1].columns)\n",
    "# features will be 19 (20-1=19), with date column removed"
   ]
  },
  {
   "cell_type": "code",
   "execution_count": 87,
   "metadata": {},
   "outputs": [],
   "source": [
    "data = dict_dataframes_index['csi300 index data'][1]"
   ]
  },
  {
   "cell_type": "markdown",
   "metadata": {},
   "source": [
    "# Stacked Autoencoders\n",
    "## Notes from source article on Stacked Autoencoder design:\n",
    "\n",
    "\"The single-layer autoencoder maps the input daily variables into the first hidden vector.\" \n",
    "\n",
    "\"In this paper, [the activate function] is set to be a sigmoid function as in Chen et al. [19]\"\n",
    "\n",
    "\"As a result, the gradient descent algorithm is applied to complete parameter optimization as suggested in Yin et al. [62]\"\n",
    "\n",
    "\"After training the first single-layer autoencoder, the reconstruction layer of the first single layer autoencoder is removed, and the hidden layer is reserved as the input layer of the second single-layer autoencoder.\" (Bao et al., 2017, p. 7-8)\n",
    "\n",
    "\n",
    "\"SAEs is the main part of the\n",
    "model and is used to learn the deep features of financial time series in an unsupervised manner. Specifically, it is a neural network consisting of multiple single layer autoencoders in\n",
    "which the output feature of each layer is wired to the inputs of the successive layer. The unsupervised training of SAEs is done one AE at a time by minimizing the error between the output\n",
    "data and the input data. As a result, the SAEs model can successfully learn invariant and\n",
    "abstract features [19].\" (Bao et al., 2017, p.2)\n",
    "\n",
    "## Implementation notes & summary:\n",
    "**Stacked Autoencoder with 5 Layers that consists of 4-single layer autoencoders**\n",
    "\n",
    "- Input variables for each dataset range from 18-25 features\n",
    "- Depth of 5, hidden layer size of 10\n",
    "- Gradient descent for parameter optimization\n",
    "- Unsupervised training\n",
    "\n",
    "## Hypotheses from meta-referenced articles for model & implementation details: \n",
    "- 100 Epochs for training (Chen et al., 2014)"
   ]
  },
  {
   "cell_type": "code",
   "execution_count": null,
   "metadata": {},
   "outputs": [],
   "source": []
  },
  {
   "cell_type": "code",
   "execution_count": 107,
   "metadata": {},
   "outputs": [
    {
     "name": "stdout",
     "output_type": "stream",
     "text": [
      "_________________________________________________________________\n",
      "Layer (type)                 Output Shape              Param #   \n",
      "=================================================================\n",
      "input_28 (InputLayer)        (None, 19)                0         \n",
      "_________________________________________________________________\n",
      "dense_153 (Dense)            (None, 10)                200       \n",
      "_________________________________________________________________\n",
      "dense_154 (Dense)            (None, 19)                209       \n",
      "_________________________________________________________________\n",
      "dense_155 (Dense)            (None, 10)                200       \n",
      "_________________________________________________________________\n",
      "dense_156 (Dense)            (None, 19)                209       \n",
      "_________________________________________________________________\n",
      "dense_157 (Dense)            (None, 10)                200       \n",
      "_________________________________________________________________\n",
      "dense_158 (Dense)            (None, 19)                209       \n",
      "_________________________________________________________________\n",
      "dense_159 (Dense)            (None, 10)                200       \n",
      "_________________________________________________________________\n",
      "dense_160 (Dense)            (None, 19)                209       \n",
      "_________________________________________________________________\n",
      "dense_161 (Dense)            (None, 10)                200       \n",
      "_________________________________________________________________\n",
      "dense_162 (Dense)            (None, 19)                209       \n",
      "=================================================================\n",
      "Total params: 2,045\n",
      "Trainable params: 2,045\n",
      "Non-trainable params: 0\n",
      "_________________________________________________________________\n"
     ]
    }
   ],
   "source": [
    "input_dim = data.shape[1]\n",
    "hidden_dim = 10  \n",
    "\n",
    "# Layer 1 - Input Layer, SAE_1\n",
    "input_data = Input(shape=(input_dim,))\n",
    "encoded = Dense(hidden_dim, activation='sigmoid')(input_data)\n",
    "decoded = Dense(input_dim, activation='sigmoid')(encoded)\n",
    "# Layer 2 - SAE_2\n",
    "encoded = Dense(hidden_dim, activation='sigmoid')(decoded)\n",
    "decoded = Dense(input_dim, activation='sigmoid')(encoded)\n",
    "# Layer 3 - SAE_3\n",
    "encoded = Dense(hidden_dim, activation='sigmoid')(decoded)\n",
    "decoded = Dense(input_dim, activation='sigmoid')(encoded)\n",
    "# Layer 4 - SAE_4\n",
    "encoded = Dense(hidden_dim, activation='sigmoid')(decoded)\n",
    "decoded = Dense(input_dim, activation='sigmoid')(encoded)\n",
    "# Layer 5 - SAE_5\n",
    "encoded = Dense(hidden_dim, activation='sigmoid')(decoded)\n",
    "decoded = Dense(input_dim, activation='sigmoid')(encoded)\n",
    "\n",
    "autoencoder = Model(input_data, decoded)\n",
    "autoencoder.compile(optimizer='sgd',loss='mse')\n",
    "autoencoder.summary()"
   ]
  },
  {
   "cell_type": "code",
   "execution_count": 108,
   "metadata": {},
   "outputs": [
    {
     "name": "stdout",
     "output_type": "stream",
     "text": [
      "Epoch 1/5\n",
      " - 0s - loss: 5511446505136931.0000\n",
      "Epoch 2/5\n",
      " - 0s - loss: 5511446492855570.0000\n",
      "Epoch 3/5\n",
      " - 0s - loss: 5511446556016854.0000\n",
      "Epoch 4/5\n",
      " - 0s - loss: 5511446445484607.0000\n",
      "Epoch 5/5\n",
      " - 0s - loss: 5511446547244453.0000\n"
     ]
    },
    {
     "data": {
      "text/plain": [
       "<keras.callbacks.History at 0x23522dd1160>"
      ]
     },
     "execution_count": 108,
     "metadata": {},
     "output_type": "execute_result"
    }
   ],
   "source": [
    "autoencoder.fit(data, data, epochs=5,verbose=2)"
   ]
  },
  {
   "cell_type": "code",
   "execution_count": 109,
   "metadata": {},
   "outputs": [],
   "source": [
    "autoencoded_data = autoencoder.predict(data)"
   ]
  },
  {
   "cell_type": "code",
   "execution_count": 110,
   "metadata": {},
   "outputs": [
    {
     "data": {
      "text/plain": [
       "19"
      ]
     },
     "execution_count": 110,
     "metadata": {},
     "output_type": "execute_result"
    }
   ],
   "source": [
    "len(pd.DataFrame(autoencoded_data).columns)"
   ]
  },
  {
   "cell_type": "code",
   "execution_count": 111,
   "metadata": {},
   "outputs": [
    {
     "data": {
      "text/html": [
       "<div>\n",
       "<style scoped>\n",
       "    .dataframe tbody tr th:only-of-type {\n",
       "        vertical-align: middle;\n",
       "    }\n",
       "\n",
       "    .dataframe tbody tr th {\n",
       "        vertical-align: top;\n",
       "    }\n",
       "\n",
       "    .dataframe thead th {\n",
       "        text-align: right;\n",
       "    }\n",
       "</style>\n",
       "<table border=\"1\" class=\"dataframe\">\n",
       "  <thead>\n",
       "    <tr style=\"text-align: right;\">\n",
       "      <th></th>\n",
       "      <th>0</th>\n",
       "      <th>1</th>\n",
       "      <th>2</th>\n",
       "      <th>3</th>\n",
       "      <th>4</th>\n",
       "      <th>5</th>\n",
       "      <th>6</th>\n",
       "      <th>7</th>\n",
       "      <th>8</th>\n",
       "      <th>9</th>\n",
       "      <th>10</th>\n",
       "      <th>11</th>\n",
       "      <th>12</th>\n",
       "      <th>13</th>\n",
       "      <th>14</th>\n",
       "      <th>15</th>\n",
       "      <th>16</th>\n",
       "      <th>17</th>\n",
       "      <th>18</th>\n",
       "    </tr>\n",
       "  </thead>\n",
       "  <tbody>\n",
       "    <tr>\n",
       "      <th>0</th>\n",
       "      <td>0.999643</td>\n",
       "      <td>0.999642</td>\n",
       "      <td>0.999636</td>\n",
       "      <td>0.999638</td>\n",
       "      <td>1.0</td>\n",
       "      <td>0.985372</td>\n",
       "      <td>0.636521</td>\n",
       "      <td>0.497739</td>\n",
       "      <td>0.788838</td>\n",
       "      <td>0.984568</td>\n",
       "      <td>0.99964</td>\n",
       "      <td>0.999638</td>\n",
       "      <td>0.999637</td>\n",
       "      <td>0.599553</td>\n",
       "      <td>0.999637</td>\n",
       "      <td>0.455108</td>\n",
       "      <td>0.667783</td>\n",
       "      <td>0.387989</td>\n",
       "      <td>1.0</td>\n",
       "    </tr>\n",
       "    <tr>\n",
       "      <th>1</th>\n",
       "      <td>0.999643</td>\n",
       "      <td>0.999642</td>\n",
       "      <td>0.999636</td>\n",
       "      <td>0.999638</td>\n",
       "      <td>1.0</td>\n",
       "      <td>0.985372</td>\n",
       "      <td>0.636521</td>\n",
       "      <td>0.497739</td>\n",
       "      <td>0.788838</td>\n",
       "      <td>0.984568</td>\n",
       "      <td>0.99964</td>\n",
       "      <td>0.999638</td>\n",
       "      <td>0.999637</td>\n",
       "      <td>0.599553</td>\n",
       "      <td>0.999637</td>\n",
       "      <td>0.455108</td>\n",
       "      <td>0.667783</td>\n",
       "      <td>0.387989</td>\n",
       "      <td>1.0</td>\n",
       "    </tr>\n",
       "    <tr>\n",
       "      <th>2</th>\n",
       "      <td>0.999643</td>\n",
       "      <td>0.999642</td>\n",
       "      <td>0.999636</td>\n",
       "      <td>0.999638</td>\n",
       "      <td>1.0</td>\n",
       "      <td>0.985372</td>\n",
       "      <td>0.636521</td>\n",
       "      <td>0.497739</td>\n",
       "      <td>0.788838</td>\n",
       "      <td>0.984568</td>\n",
       "      <td>0.99964</td>\n",
       "      <td>0.999638</td>\n",
       "      <td>0.999637</td>\n",
       "      <td>0.599553</td>\n",
       "      <td>0.999637</td>\n",
       "      <td>0.455108</td>\n",
       "      <td>0.667783</td>\n",
       "      <td>0.387989</td>\n",
       "      <td>1.0</td>\n",
       "    </tr>\n",
       "    <tr>\n",
       "      <th>3</th>\n",
       "      <td>0.999643</td>\n",
       "      <td>0.999642</td>\n",
       "      <td>0.999636</td>\n",
       "      <td>0.999638</td>\n",
       "      <td>1.0</td>\n",
       "      <td>0.985372</td>\n",
       "      <td>0.636521</td>\n",
       "      <td>0.497739</td>\n",
       "      <td>0.788838</td>\n",
       "      <td>0.984568</td>\n",
       "      <td>0.99964</td>\n",
       "      <td>0.999638</td>\n",
       "      <td>0.999637</td>\n",
       "      <td>0.599553</td>\n",
       "      <td>0.999637</td>\n",
       "      <td>0.455108</td>\n",
       "      <td>0.667783</td>\n",
       "      <td>0.387989</td>\n",
       "      <td>1.0</td>\n",
       "    </tr>\n",
       "    <tr>\n",
       "      <th>4</th>\n",
       "      <td>0.999643</td>\n",
       "      <td>0.999642</td>\n",
       "      <td>0.999636</td>\n",
       "      <td>0.999638</td>\n",
       "      <td>1.0</td>\n",
       "      <td>0.985372</td>\n",
       "      <td>0.636521</td>\n",
       "      <td>0.497739</td>\n",
       "      <td>0.788838</td>\n",
       "      <td>0.984568</td>\n",
       "      <td>0.99964</td>\n",
       "      <td>0.999638</td>\n",
       "      <td>0.999637</td>\n",
       "      <td>0.599553</td>\n",
       "      <td>0.999637</td>\n",
       "      <td>0.455108</td>\n",
       "      <td>0.667783</td>\n",
       "      <td>0.387989</td>\n",
       "      <td>1.0</td>\n",
       "    </tr>\n",
       "  </tbody>\n",
       "</table>\n",
       "</div>"
      ],
      "text/plain": [
       "         0         1         2         3    4         5         6         7   \\\n",
       "0  0.999643  0.999642  0.999636  0.999638  1.0  0.985372  0.636521  0.497739   \n",
       "1  0.999643  0.999642  0.999636  0.999638  1.0  0.985372  0.636521  0.497739   \n",
       "2  0.999643  0.999642  0.999636  0.999638  1.0  0.985372  0.636521  0.497739   \n",
       "3  0.999643  0.999642  0.999636  0.999638  1.0  0.985372  0.636521  0.497739   \n",
       "4  0.999643  0.999642  0.999636  0.999638  1.0  0.985372  0.636521  0.497739   \n",
       "\n",
       "         8         9        10        11        12        13        14  \\\n",
       "0  0.788838  0.984568  0.99964  0.999638  0.999637  0.599553  0.999637   \n",
       "1  0.788838  0.984568  0.99964  0.999638  0.999637  0.599553  0.999637   \n",
       "2  0.788838  0.984568  0.99964  0.999638  0.999637  0.599553  0.999637   \n",
       "3  0.788838  0.984568  0.99964  0.999638  0.999637  0.599553  0.999637   \n",
       "4  0.788838  0.984568  0.99964  0.999638  0.999637  0.599553  0.999637   \n",
       "\n",
       "         15        16        17   18  \n",
       "0  0.455108  0.667783  0.387989  1.0  \n",
       "1  0.455108  0.667783  0.387989  1.0  \n",
       "2  0.455108  0.667783  0.387989  1.0  \n",
       "3  0.455108  0.667783  0.387989  1.0  \n",
       "4  0.455108  0.667783  0.387989  1.0  "
      ]
     },
     "execution_count": 111,
     "metadata": {},
     "output_type": "execute_result"
    }
   ],
   "source": [
    "pd.DataFrame(autoencoded_data).head()"
   ]
  },
  {
   "cell_type": "code",
   "execution_count": null,
   "metadata": {},
   "outputs": [],
   "source": []
  },
  {
   "cell_type": "code",
   "execution_count": null,
   "metadata": {},
   "outputs": [],
   "source": []
  },
  {
   "cell_type": "code",
   "execution_count": null,
   "metadata": {},
   "outputs": [],
   "source": []
  },
  {
   "cell_type": "code",
   "execution_count": null,
   "metadata": {},
   "outputs": [],
   "source": []
  },
  {
   "cell_type": "code",
   "execution_count": null,
   "metadata": {},
   "outputs": [],
   "source": []
  },
  {
   "cell_type": "code",
   "execution_count": 92,
   "metadata": {},
   "outputs": [],
   "source": [
    "# input_dim = data.shape[1]\n",
    "# hidden_dim = 10\n",
    "# learning_rate = 1e-7\n",
    "\n",
    "# # Layer 1 - Input layer\n",
    "# input_layer = Input(shape=(input_dim,))\n",
    "# encoder = Dense(hidden_dim, activation=\"sigmoid\", \n",
    "#                 activity_regularizer=regularizers.l1(learning_rate))(input_layer)\n",
    "# decoder = Dense(input_dim, activation='sigmoid')(encoder)\n",
    "# # Layer 2 - SAE_1\n",
    "# encoder = Dense(input_dim, activation=\"sigmoid\")(decoder)\n",
    "# decoder = Dense(hidden_dim, activation='sigmoid')(encoder)\n",
    "# # # Layer 3 - SAE_2\n",
    "# # encoder = Dense(input_dim, activation=\"sigmoid\")(decoder)\n",
    "# # decoder = Dense(hidden_dim, activation='sigmoid')(encoder)\n",
    "# # # layer 4 - SAE_3\n",
    "# # encoder = Dense(input_dim, activation=\"sigmoid\")(decoder)\n",
    "# # decoder = Dense(hidden_dim, activation='sigmoid')(encoder)\n",
    "# # # layer 5 - SAE_4\n",
    "# # encoder = Dense(input_dim, activation=\"sigmoid\")(decoder)\n",
    "# # decoder = Dense(hidden_dim, activation='sigmoid')(encoder)\n",
    "\n",
    "\n",
    "\n",
    "# autoencoder = Model(inputs=input_layer, outputs=decoder)\n",
    "# autoencoder.compile(optimizer='sgd',\n",
    "#                     loss='mean_squared_error',\n",
    "#                     )"
   ]
  },
  {
   "cell_type": "code",
   "execution_count": 93,
   "metadata": {},
   "outputs": [],
   "source": [
    "# autoencoder.summary()\n"
   ]
  },
  {
   "cell_type": "code",
   "execution_count": 94,
   "metadata": {},
   "outputs": [],
   "source": [
    "# autoencoder.fit(data, data,\n",
    "#                 epochs=10)"
   ]
  },
  {
   "cell_type": "code",
   "execution_count": null,
   "metadata": {},
   "outputs": [],
   "source": []
  },
  {
   "cell_type": "code",
   "execution_count": null,
   "metadata": {},
   "outputs": [],
   "source": []
  },
  {
   "cell_type": "code",
   "execution_count": null,
   "metadata": {},
   "outputs": [],
   "source": []
  },
  {
   "cell_type": "code",
   "execution_count": 95,
   "metadata": {
    "scrolled": false
   },
   "outputs": [],
   "source": [
    "\n",
    "# input_dim = 19\n",
    "# encoding_dim = 19\n",
    "\n",
    "# autoencoder = Sequential()\n",
    "\n",
    "# autoencoder.add(\n",
    "#     Dense(encoding_dim, input_shape=(input_dim,), activation='sigmoid'))\n",
    "# autoencoder.add(\n",
    "#     Dense(10, activation='sigmoid')\n",
    "# )\n",
    "# autoencoder.add(\n",
    "#     Dense(input_dim, activation='sigmoid')\n",
    "# )\n",
    "# autoencoder.summary()\n",
    "# autoencoder.compile(optimizer='sgd',loss='mse')"
   ]
  },
  {
   "cell_type": "code",
   "execution_count": 96,
   "metadata": {},
   "outputs": [],
   "source": [
    "# autoencoder.fit(data,data,epochs=10)"
   ]
  },
  {
   "cell_type": "code",
   "execution_count": null,
   "metadata": {
    "scrolled": true
   },
   "outputs": [],
   "source": []
  },
  {
   "cell_type": "code",
   "execution_count": null,
   "metadata": {},
   "outputs": [],
   "source": []
  }
 ],
 "metadata": {
  "kernelspec": {
   "display_name": "Python 3",
   "language": "python",
   "name": "python3"
  },
  "language_info": {
   "codemirror_mode": {
    "name": "ipython",
    "version": 3
   },
   "file_extension": ".py",
   "mimetype": "text/x-python",
   "name": "python",
   "nbconvert_exporter": "python",
   "pygments_lexer": "ipython3",
   "version": "3.6.6"
  }
 },
 "nbformat": 4,
 "nbformat_minor": 2
}
