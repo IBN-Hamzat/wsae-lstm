{
 "cells": [
  {
   "cell_type": "code",
   "execution_count": 27,
   "metadata": {},
   "outputs": [],
   "source": [
    "# Imports (External)\n",
    "import numpy as np\n",
    "import pandas as pd\n",
    "import datetime\n",
    "from datetime import datetime\n",
    "\n",
    "from monthdelta import monthdelta\n",
    "import xlrd\n",
    "import xlsxwriter\n",
    "from collections import OrderedDict\n",
    "import pickle\n",
    "\n",
    "import sys\n",
    "sys.path.append('../')  \n",
    "\n",
    "# Visualization/plotting imports\n",
    "import matplotlib as mpl\n",
    "import matplotlib.pyplot as plt\n",
    "\n",
    "# Machine learning imports\n",
    "import pywt\n",
    "from pywt import wavedec, waverec\n",
    "from scipy import signal\n",
    "from statsmodels.robust import mad\n",
    "\n",
    "import sklearn\n",
    "import tensorflow as tf\n",
    "import keras\n",
    "from keras.layers import Input, Dense\n",
    "from keras.models import Model, Sequential\n",
    "from keras import optimizers\n",
    "\n",
    "# Internal Imports\n",
    "from wsae_lstm.utils import pickle_load"
   ]
  },
  {
   "cell_type": "code",
   "execution_count": 62,
   "metadata": {},
   "outputs": [],
   "source": [
    "dict_dataframes_index=pickle_load(path_filename=\"../data/pickled/clean_data_index_interval\")\n",
    "#dict_dataframes_index.keys()"
   ]
  },
  {
   "cell_type": "code",
   "execution_count": 63,
   "metadata": {},
   "outputs": [],
   "source": [
    "dict_dataframes_index['csi300 index data'][1].drop(['date'],axis=1,inplace=True)"
   ]
  },
  {
   "cell_type": "code",
   "execution_count": 64,
   "metadata": {},
   "outputs": [
    {
     "data": {
      "text/plain": [
       "19"
      ]
     },
     "execution_count": 64,
     "metadata": {},
     "output_type": "execute_result"
    }
   ],
   "source": [
    "len(dict_dataframes_index['csi300 index data'][1].columns)\n",
    "# features will be 19 (20-1=19), with date column removed"
   ]
  },
  {
   "cell_type": "code",
   "execution_count": 65,
   "metadata": {},
   "outputs": [],
   "source": [
    "data = dict_dataframes_index['csi300 index data'][1]"
   ]
  },
  {
   "cell_type": "markdown",
   "metadata": {},
   "source": [
    "# Stacked Autoencoders\n",
    "## Notes from source article on Stacked Autoencoder design:\n",
    "\n",
    "\"The single-layer autoencoder maps the input daily variables into the first hidden vector.\" \n",
    "\n",
    "\"In this paper, [the activate function] is set to be a sigmoid function as in Chen et al. [19]\"\n",
    "\n",
    "\"As a result, the gradient descent algorithm is applied to complete parameter optimization as suggested in Yin et al. [62]\"\n",
    "\n",
    "\"After training the first single-layer autoencoder, the reconstruction layer of the first single layer autoencoder is removed, and the hidden layer is reserved as the input layer of the second single-layer autoencoder.\" (Bao et al., 2017, p. 7-8)\n",
    "\n",
    "\n",
    "\"SAEs is the main part of the\n",
    "model and is used to learn the deep features of financial time series in an unsupervised manner. Specifically, it is a neural network consisting of multiple single layer autoencoders in\n",
    "which the output feature of each layer is wired to the inputs of the successive layer. The unsupervised training of SAEs is done one AE at a time by minimizing the error between the output\n",
    "data and the input data. As a result, the SAEs model can successfully learn invariant and\n",
    "abstract features [19].\" (Bao et al., 2017, p.2)\n",
    "\n",
    "# Implementation notes & summary:\n",
    "**Stacked Autoencoder with 5 Layers that consists of 4-single layer autoencoders**\n",
    "- Input variables for each dataset range from 18-25 features\n",
    "- Depth of 5, hidden layer size of 10\n",
    "- Gradient descent for parameter optimization\n",
    "- Unsupervised training\n"
   ]
  },
  {
   "cell_type": "code",
   "execution_count": null,
   "metadata": {},
   "outputs": [],
   "source": [
    "# Layer 1 - Input layer\n",
    "# Layer 2 - SAE_1\n",
    "# Layer 3 - SAE_2\n",
    "# layer 4 - SAE_3\n",
    "# layer 5 - SAE_4"
   ]
  },
  {
   "cell_type": "code",
   "execution_count": null,
   "metadata": {},
   "outputs": [],
   "source": []
  },
  {
   "cell_type": "code",
   "execution_count": null,
   "metadata": {},
   "outputs": [],
   "source": [
    "\n"
   ]
  },
  {
   "cell_type": "code",
   "execution_count": null,
   "metadata": {},
   "outputs": [],
   "source": []
  },
  {
   "cell_type": "code",
   "execution_count": null,
   "metadata": {},
   "outputs": [],
   "source": []
  },
  {
   "cell_type": "code",
   "execution_count": null,
   "metadata": {},
   "outputs": [],
   "source": []
  },
  {
   "cell_type": "code",
   "execution_count": 77,
   "metadata": {
    "scrolled": false
   },
   "outputs": [],
   "source": [
    "\n",
    "# input_dim = 19\n",
    "# encoding_dim = 19\n",
    "\n",
    "# autoencoder = Sequential()\n",
    "\n",
    "# autoencoder.add(\n",
    "#     Dense(encoding_dim, input_shape=(input_dim,), activation='sigmoid'))\n",
    "# autoencoder.add(\n",
    "#     Dense(10, activation='sigmoid')\n",
    "# )\n",
    "# autoencoder.add(\n",
    "#     Dense(input_dim, activation='sigmoid')\n",
    "# )\n",
    "# autoencoder.summary()\n",
    "# autoencoder.compile(optimizer='sgd',loss='mse')"
   ]
  },
  {
   "cell_type": "code",
   "execution_count": null,
   "metadata": {},
   "outputs": [],
   "source": [
    "# autoencoder.fit(data,data,epochs=10)"
   ]
  },
  {
   "cell_type": "code",
   "execution_count": null,
   "metadata": {
    "scrolled": true
   },
   "outputs": [],
   "source": []
  },
  {
   "cell_type": "code",
   "execution_count": null,
   "metadata": {},
   "outputs": [],
   "source": []
  }
 ],
 "metadata": {
  "kernelspec": {
   "display_name": "Python 3",
   "language": "python",
   "name": "python3"
  },
  "language_info": {
   "codemirror_mode": {
    "name": "ipython",
    "version": 3
   },
   "file_extension": ".py",
   "mimetype": "text/x-python",
   "name": "python",
   "nbconvert_exporter": "python",
   "pygments_lexer": "ipython3",
   "version": "3.6.6"
  }
 },
 "nbformat": 4,
 "nbformat_minor": 2
}
