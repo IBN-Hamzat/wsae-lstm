{
 "cells": [
  {
   "cell_type": "code",
   "execution_count": null,
   "metadata": {},
   "outputs": [],
   "source": [
    "# Imports (External)\n",
    "import numpy as np\n",
    "import pandas as pd\n",
    "\n",
    "import datetime as dt\n",
    "import matplotlib as mpl\n",
    "import matplotlib.pyplot as plt\n",
    "\n",
    "import sklearn\n",
    "import tensorflow as tf\n",
    "import keras\n",
    "\n",
    "import pywt"
   ]
  },
  {
   "cell_type": "code",
   "execution_count": null,
   "metadata": {},
   "outputs": [],
   "source": [
    "# Imports (Internal)"
   ]
  },
  {
   "cell_type": "markdown",
   "metadata": {},
   "source": [
    "Model inputs:\n",
    "\n",
    "1. Microeconomic variables \n",
    "    - OHLC data (Panel A)\n",
    "    - Technicator indicators (Panel B)\n",
    "3. Macroeconomic variables \n",
    "    - US Dollar Index, HIBOR (Panel C)"
   ]
  },
  {
   "cell_type": "markdown",
   "metadata": {},
   "source": [
    "Fig 7. Continuous dataset arrangement for training, validating and testing during the whole sample period:\n",
    "\n",
    "![fig%207%20dataset%20arrangement%20for%20train%20validate%20test.PNG](attachment:fig%207%20dataset%20arrangement%20for%20train%20validate%20test.PNG)"
   ]
  },
  {
   "cell_type": "markdown",
   "metadata": {},
   "source": [
    "Table 2. Time interval of the six prediction years:\n",
    "![table%202%20time%20interval%20of%206%20six%20year%20prediction.PNG](attachment:table%202%20time%20interval%20of%206%20six%20year%20prediction.PNG)"
   ]
  },
  {
   "cell_type": "markdown",
   "metadata": {},
   "source": [
    "Panel A variables: (OHLC, H/L price, volume)\n",
    "\n",
    "Panel B variables: (MACD, CCI, ATR, BOLL, EMA20, MA5/MA10, MTM5/MTM12, ROC, SMI, WVAD)\n",
    "\n",
    "Panel A variables (OHLC) and Panel B variables (Technical Indicators) can all be calculated/recreated for bitcoin and other crypto (or even stocks/forex)\n",
    "\n",
    "Panel C variables (Exchange rate and Interest rates) are macroeconomic variables I'd have to find a replacement, substitute, or rough equivalent (if possible) for crypto\n",
    "possibly even something like the stablecoin exchange premium or overall marketcap per currency/ticker"
   ]
  },
  {
   "cell_type": "code",
   "execution_count": null,
   "metadata": {},
   "outputs": [],
   "source": [
    "Splitting data this particular way includes the previous observations into the next training set:"
   ]
  },
  {
   "cell_type": "code",
   "execution_count": null,
   "metadata": {},
   "outputs": [],
   "source": [
    "from sklearn.model_selection import TimeSeriesSplit\n",
    "\n",
    "train_list = []\n",
    "test_list = []\n",
    "X = clean_data.values\n",
    "\n",
    "splits = TimeSeriesSplit(n_splits=6)\n",
    "index = 1\n",
    "for train_index, test_index in splits.split(X):\n",
    "    train = X[train_index]\n",
    "    test = X[test_index]\n",
    "    print('Observations: %d' % (len(train) + len(test)))\n",
    "    print('Training Observations: %d' % (len(train)))\n",
    "    print('Testing Observations: %d' % (len(test)))\n",
    "    train_list.append(train)\n",
    "    test_list.append(test)\n",
    "    index += 1"
   ]
  },
  {
   "cell_type": "code",
   "execution_count": null,
   "metadata": {},
   "outputs": [],
   "source": [
    "len(train_list),len(test_list)"
   ]
  },
  {
   "cell_type": "markdown",
   "metadata": {},
   "source": [
    "Fig 1. The flowchart of the proposed deep learning framework for financial time series:![fig%201%20flowchart%20of%20dl%20framework%20model.PNG](attachment:fig%201%20flowchart%20of%20dl%20framework%20model.PNG)"
   ]
  },
  {
   "cell_type": "markdown",
   "metadata": {},
   "source": [
    "As defined by bao-yue-rao, the WSAE-LSTM model has three primary components:\n",
    "\n",
    "1. Wavelet transform applied to denoise data as part of preprocessing\n",
    "2. Stacked Autoencoders to generate high level features\n",
    "3. LSTMs to forecast next day closing price"
   ]
  },
  {
   "cell_type": "markdown",
   "metadata": {},
   "source": [
    "Wavelet Transform\n",
    "\n",
    "\"As a result, the two-level wavelet is applied twice in this study for data preprocessing as suggested in [23]\"\n",
    "\"First, the denoised time series is generated via discrete wavelet transform using the Haar wavelet\""
   ]
  },
  {
   "cell_type": "code",
   "execution_count": null,
   "metadata": {},
   "outputs": [],
   "source": [
    "# Single-level wavelet transform\n",
    "    # https://pywavelets.readthedocs.io/en/latest/ref/dwt-discrete-wavelet-transform.html\n",
    "cA, cD = pywt.dwt(clean_data.values, 'haar')"
   ]
  },
  {
   "cell_type": "code",
   "execution_count": null,
   "metadata": {},
   "outputs": [],
   "source": [
    "# Multi-level wavelet transform\n",
    "    # https://pywavelets.readthedocs.io/en/latest/ref/dwt-discrete-wavelet-transform.html#pywt.wavedec\n",
    "from pywt import wavedec\n",
    "coeffs = wavedec(clean_data.values, 'haar', level=2)\n",
    "cA2, cD2, cD1 = coeffs"
   ]
  }
 ],
 "metadata": {
  "kernelspec": {
   "display_name": "Python 3",
   "language": "python",
   "name": "python3"
  },
  "language_info": {
   "codemirror_mode": {
    "name": "ipython",
    "version": 3
   },
   "file_extension": ".py",
   "mimetype": "text/x-python",
   "name": "python",
   "nbconvert_exporter": "python",
   "pygments_lexer": "ipython3",
   "version": "3.6.6"
  }
 },
 "nbformat": 4,
 "nbformat_minor": 2
}
